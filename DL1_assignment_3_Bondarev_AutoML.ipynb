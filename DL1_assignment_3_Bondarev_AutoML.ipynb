{
 "cells": [
  {
   "cell_type": "markdown",
   "metadata": {
    "id": "TK7oX5qdEEYr"
   },
   "source": [
    "<p style=\"align: center;\"><img align=center src=\"https://s8.hostingkartinok.com/uploads/images/2018/08/308b49fcfbc619d629fe4604bceb67ac.jpg\" width=500 height=450/></p>\n",
    "\n",
    "<h3 style=\"text-align: center;\"><b>Школа глубокого обучения ФПМИ МФТИ</b></h3>\n",
    "\n",
    "<h3 style=\"text-align: center;\"><b>Домашнее задание. Продвинутый поток. Весна 2021</b></h3>\n",
    "\n",
    "Это домашнее задание будет посвящено полноценному решению задачи машинного обучения."
   ]
  },
  {
   "cell_type": "markdown",
   "metadata": {
    "id": "zlB-owfaEEYs"
   },
   "source": [
    "Есть две части этого домашнего задания: \n",
    "* Сделать полноценный отчет о вашей работе: как вы обработали данные, какие модели попробовали и какие результаты получились (максимум 10 баллов). За каждую выполненную часть будет начислено определенное количество баллов.\n",
    "* Лучшее решение отправить в соревнование на [kaggle](https://www.kaggle.com/c/advanced-dls-spring-2021/) (максимум 5 баллов). За прохождение определенного порогов будут начисляться баллы.\n",
    "\n",
    "\n",
    "**Обе части будут проверяться в формате peer-review. Т.е. вашу посылку на степик будут проверять несколько других студентов и аггрегация их оценок будет выставлена. В то же время вам тоже нужно будет проверить несколько других учеников.**\n",
    "\n",
    "**Пожалуйста, делайте свою работу чистой и понятной, чтобы облегчить проверку. Если у вас будут проблемы с решением или хочется совета, то пишите в наш чат в телеграме или в лс @runfme. Если вы захотите проаппелировать оценку, то пипшите в лс @runfme.**\n",
    "\n",
    "**Во всех пунктах указания это минимальный набор вещей, которые стоит сделать. Если вы можете сделать какой-то шаг лучше или добавить что-то свое - дерзайте!**"
   ]
  },
  {
   "cell_type": "markdown",
   "metadata": {
    "id": "Tu_JvqcBEN8Y"
   },
   "source": [
    "# Как проверять?\n",
    "\n",
    "Ставьте полный балл, если выполнены все рекомендации или сделано что-то более интересное и сложное. За каждый отсустствующий пункт из рекомендация снижайте 1 балл."
   ]
  },
  {
   "cell_type": "markdown",
   "metadata": {
    "id": "ninJ63mJEEYt"
   },
   "source": [
    "# Метрика\n",
    "\n",
    "Перед решением любой задачи важно понимать, как будет оцениваться ваше решение. В данном случае мы используем стандартную для задачи классификации метрику ROC-AUC. Ее можно вычислить используя только предсказанные вероятности и истинные классы без конкретного порога классификации + она раотает даже если классы в данных сильно несбалансированны (примеров одного класса в десятки раз больше примеров длугого). Именно поэтому она очень удобна для соревнований.\n",
    "\n",
    "Посчитать ее легко:\n"
   ]
  },
  {
   "cell_type": "markdown",
   "metadata": {
    "id": "IrDNNkNTEEYz"
   },
   "source": [
    "# Первая часть. Исследование"
   ]
  },
  {
   "cell_type": "code",
   "execution_count": 1,
   "metadata": {
    "id": "lzLqEeZKEEYz"
   },
   "outputs": [],
   "source": [
    "import pandas as pd\n",
    "import numpy as np\n",
    "from matplotlib import pyplot as plt\n",
    "import plotly.express as px\n",
    "import plotly.graph_objects as go\n",
    "\n",
    "from category_encoders import OrdinalEncoder, OneHotEncoder\n",
    "from category_encoders import BackwardDifferenceEncoder, HelmertEncoder, BinaryEncoder\n",
    "from category_encoders import CountEncoder\n",
    "from category_encoders import LeaveOneOutEncoder, TargetEncoder, JamesSteinEncoder, MEstimateEncoder, WOEEncoder, CatBoostEncoder\n",
    "from category_encoders.wrapper import NestedCVWrapper"
   ]
  },
  {
   "cell_type": "markdown",
   "metadata": {
    "id": "LOlxdURSEEY3"
   },
   "source": [
    "## Загрузка данных (2 балла)\n",
    "\n",
    "1) Посмотрите на случайные строчки. \n",
    "\n",
    "2) Посмотрите, есть ли в датасете незаполненные значения (nan'ы) с помощью data.isna() или data.info() и, если нужно, замените их на что-то. Будет хорошо, если вы построите табличку с количеством nan в каждой колонке."
   ]
  },
  {
   "cell_type": "code",
   "execution_count": 17,
   "metadata": {
    "id": "pw-Brue9EEY3"
   },
   "outputs": [],
   "source": [
    "data = pd.read_csv('./train.csv')"
   ]
  },
  {
   "cell_type": "code",
   "execution_count": 18,
   "metadata": {
    "id": "KgnkkF5bEEY9"
   },
   "outputs": [],
   "source": [
    "# Для вашего удобства списки с именами разных колонок\n",
    "\n",
    "# Числовые признаки\n",
    "num_cols = [\n",
    "    'ClientPeriod',\n",
    "    'MonthlySpending',\n",
    "    'TotalSpent'\n",
    "]\n",
    "\n",
    "# Категориальные признаки\n",
    "cat_cols = [\n",
    "    'Sex',\n",
    "    'IsSeniorCitizen',\n",
    "    'HasPartner',\n",
    "    'HasChild',\n",
    "    'HasPhoneService',\n",
    "    'HasMultiplePhoneNumbers',\n",
    "    'HasInternetService',\n",
    "    'HasOnlineSecurityService',\n",
    "    'HasOnlineBackup',\n",
    "    'HasDeviceProtection',\n",
    "    'HasTechSupportAccess',\n",
    "    'HasOnlineTV',\n",
    "    'HasMovieSubscription',\n",
    "    'HasContractPhone',\n",
    "    'IsBillingPaperless',\n",
    "    'PaymentMethod'\n",
    "]\n",
    "\n",
    "feature_cols = num_cols + cat_cols\n",
    "target_col = 'Churn'"
   ]
  },
  {
   "cell_type": "code",
   "execution_count": 19,
   "metadata": {
    "id": "tHC6gWabEEZA"
   },
   "outputs": [
    {
     "data": {
      "text/html": [
       "<div>\n",
       "<style scoped>\n",
       "    .dataframe tbody tr th:only-of-type {\n",
       "        vertical-align: middle;\n",
       "    }\n",
       "\n",
       "    .dataframe tbody tr th {\n",
       "        vertical-align: top;\n",
       "    }\n",
       "\n",
       "    .dataframe thead th {\n",
       "        text-align: right;\n",
       "    }\n",
       "</style>\n",
       "<table border=\"1\" class=\"dataframe\">\n",
       "  <thead>\n",
       "    <tr style=\"text-align: right;\">\n",
       "      <th></th>\n",
       "      <th>ClientPeriod</th>\n",
       "      <th>MonthlySpending</th>\n",
       "      <th>TotalSpent</th>\n",
       "      <th>Sex</th>\n",
       "      <th>IsSeniorCitizen</th>\n",
       "      <th>HasPartner</th>\n",
       "      <th>HasChild</th>\n",
       "      <th>HasPhoneService</th>\n",
       "      <th>HasMultiplePhoneNumbers</th>\n",
       "      <th>HasInternetService</th>\n",
       "      <th>HasOnlineSecurityService</th>\n",
       "      <th>HasOnlineBackup</th>\n",
       "      <th>HasDeviceProtection</th>\n",
       "      <th>HasTechSupportAccess</th>\n",
       "      <th>HasOnlineTV</th>\n",
       "      <th>HasMovieSubscription</th>\n",
       "      <th>HasContractPhone</th>\n",
       "      <th>IsBillingPaperless</th>\n",
       "      <th>PaymentMethod</th>\n",
       "      <th>Churn</th>\n",
       "    </tr>\n",
       "  </thead>\n",
       "  <tbody>\n",
       "    <tr>\n",
       "      <th>0</th>\n",
       "      <td>55</td>\n",
       "      <td>19.50</td>\n",
       "      <td>1026.35</td>\n",
       "      <td>Male</td>\n",
       "      <td>0</td>\n",
       "      <td>Yes</td>\n",
       "      <td>Yes</td>\n",
       "      <td>Yes</td>\n",
       "      <td>No</td>\n",
       "      <td>No</td>\n",
       "      <td>No internet service</td>\n",
       "      <td>No internet service</td>\n",
       "      <td>No internet service</td>\n",
       "      <td>No internet service</td>\n",
       "      <td>No internet service</td>\n",
       "      <td>No internet service</td>\n",
       "      <td>One year</td>\n",
       "      <td>No</td>\n",
       "      <td>Mailed check</td>\n",
       "      <td>0</td>\n",
       "    </tr>\n",
       "    <tr>\n",
       "      <th>1</th>\n",
       "      <td>72</td>\n",
       "      <td>25.85</td>\n",
       "      <td>1872.2</td>\n",
       "      <td>Male</td>\n",
       "      <td>0</td>\n",
       "      <td>Yes</td>\n",
       "      <td>No</td>\n",
       "      <td>Yes</td>\n",
       "      <td>Yes</td>\n",
       "      <td>No</td>\n",
       "      <td>No internet service</td>\n",
       "      <td>No internet service</td>\n",
       "      <td>No internet service</td>\n",
       "      <td>No internet service</td>\n",
       "      <td>No internet service</td>\n",
       "      <td>No internet service</td>\n",
       "      <td>Two year</td>\n",
       "      <td>No</td>\n",
       "      <td>Credit card (automatic)</td>\n",
       "      <td>0</td>\n",
       "    </tr>\n",
       "    <tr>\n",
       "      <th>2</th>\n",
       "      <td>1</td>\n",
       "      <td>75.90</td>\n",
       "      <td>75.9</td>\n",
       "      <td>Male</td>\n",
       "      <td>0</td>\n",
       "      <td>No</td>\n",
       "      <td>No</td>\n",
       "      <td>Yes</td>\n",
       "      <td>No</td>\n",
       "      <td>Fiber optic</td>\n",
       "      <td>No</td>\n",
       "      <td>No</td>\n",
       "      <td>No</td>\n",
       "      <td>Yes</td>\n",
       "      <td>No</td>\n",
       "      <td>No</td>\n",
       "      <td>Month-to-month</td>\n",
       "      <td>Yes</td>\n",
       "      <td>Electronic check</td>\n",
       "      <td>1</td>\n",
       "    </tr>\n",
       "    <tr>\n",
       "      <th>3</th>\n",
       "      <td>32</td>\n",
       "      <td>79.30</td>\n",
       "      <td>2570</td>\n",
       "      <td>Female</td>\n",
       "      <td>1</td>\n",
       "      <td>Yes</td>\n",
       "      <td>No</td>\n",
       "      <td>Yes</td>\n",
       "      <td>Yes</td>\n",
       "      <td>Fiber optic</td>\n",
       "      <td>No</td>\n",
       "      <td>No</td>\n",
       "      <td>Yes</td>\n",
       "      <td>No</td>\n",
       "      <td>No</td>\n",
       "      <td>No</td>\n",
       "      <td>Month-to-month</td>\n",
       "      <td>No</td>\n",
       "      <td>Mailed check</td>\n",
       "      <td>0</td>\n",
       "    </tr>\n",
       "    <tr>\n",
       "      <th>4</th>\n",
       "      <td>60</td>\n",
       "      <td>115.25</td>\n",
       "      <td>6758.45</td>\n",
       "      <td>Female</td>\n",
       "      <td>0</td>\n",
       "      <td>Yes</td>\n",
       "      <td>Yes</td>\n",
       "      <td>Yes</td>\n",
       "      <td>Yes</td>\n",
       "      <td>Fiber optic</td>\n",
       "      <td>Yes</td>\n",
       "      <td>Yes</td>\n",
       "      <td>Yes</td>\n",
       "      <td>Yes</td>\n",
       "      <td>Yes</td>\n",
       "      <td>Yes</td>\n",
       "      <td>Two year</td>\n",
       "      <td>No</td>\n",
       "      <td>Credit card (automatic)</td>\n",
       "      <td>0</td>\n",
       "    </tr>\n",
       "  </tbody>\n",
       "</table>\n",
       "</div>"
      ],
      "text/plain": [
       "   ClientPeriod  MonthlySpending TotalSpent     Sex  IsSeniorCitizen  \\\n",
       "0            55            19.50    1026.35    Male                0   \n",
       "1            72            25.85     1872.2    Male                0   \n",
       "2             1            75.90       75.9    Male                0   \n",
       "3            32            79.30       2570  Female                1   \n",
       "4            60           115.25    6758.45  Female                0   \n",
       "\n",
       "  HasPartner HasChild HasPhoneService HasMultiplePhoneNumbers  \\\n",
       "0        Yes      Yes             Yes                      No   \n",
       "1        Yes       No             Yes                     Yes   \n",
       "2         No       No             Yes                      No   \n",
       "3        Yes       No             Yes                     Yes   \n",
       "4        Yes      Yes             Yes                     Yes   \n",
       "\n",
       "  HasInternetService HasOnlineSecurityService      HasOnlineBackup  \\\n",
       "0                 No      No internet service  No internet service   \n",
       "1                 No      No internet service  No internet service   \n",
       "2        Fiber optic                       No                   No   \n",
       "3        Fiber optic                       No                   No   \n",
       "4        Fiber optic                      Yes                  Yes   \n",
       "\n",
       "   HasDeviceProtection HasTechSupportAccess          HasOnlineTV  \\\n",
       "0  No internet service  No internet service  No internet service   \n",
       "1  No internet service  No internet service  No internet service   \n",
       "2                   No                  Yes                   No   \n",
       "3                  Yes                   No                   No   \n",
       "4                  Yes                  Yes                  Yes   \n",
       "\n",
       "  HasMovieSubscription HasContractPhone IsBillingPaperless  \\\n",
       "0  No internet service         One year                 No   \n",
       "1  No internet service         Two year                 No   \n",
       "2                   No   Month-to-month                Yes   \n",
       "3                   No   Month-to-month                 No   \n",
       "4                  Yes         Two year                 No   \n",
       "\n",
       "             PaymentMethod  Churn  \n",
       "0             Mailed check      0  \n",
       "1  Credit card (automatic)      0  \n",
       "2         Electronic check      1  \n",
       "3             Mailed check      0  \n",
       "4  Credit card (automatic)      0  "
      ]
     },
     "execution_count": 19,
     "metadata": {},
     "output_type": "execute_result"
    }
   ],
   "source": [
    "data.head()"
   ]
  },
  {
   "cell_type": "code",
   "execution_count": null,
   "metadata": {},
   "outputs": [],
   "source": [
    "data.info()"
   ]
  },
  {
   "cell_type": "markdown",
   "metadata": {},
   "source": [
    "### Первичные выводы \n",
    "- Пропусков нет\n",
    "- 5282 строк\n",
    "- Из аномалий - категориальный признак IsSeniorCitizen представлен в числовом виде, в принципе подходит для one-hot encoding\n",
    "- TotalSpent строковый, хотя должны быть числа\n",
    "- Осталось посмотреть есть статистику по классам, какие есть градации по качественным признакам, статистику по количественным и аномалии"
   ]
  },
  {
   "cell_type": "markdown",
   "metadata": {
    "id": "dK370bPCEEZD"
   },
   "source": [
    "## Анализ данных (3 балла)\n",
    "\n",
    "1) Для численных призанков постройте гистограмму (*plt.hist(...)*) или boxplot (*plt.boxplot(...)*). Для категориальных посчитайте количество каждого значения для каждого признака. Для каждой колонки надо сделать *data.value_counts()* и построить bar диаграммы *plt.bar(...)* или круговые диаграммы *plt.pie(...)* (хорошо, елси вы сможете это сделать на одном гарфике с помощью *plt.subplots(...)*). \n",
    "\n",
    "2) Посмотрите на распределение целевой переменной и скажите, являются ли классы несбалансированными.\n",
    "\n",
    "3) (Если будет желание) Поиграйте с разными библиотеками для визуализации - *sns*, *pandas_visual_analysis*, etc.\n",
    "\n",
    "Второй пункт очень важен, потому что существуют задачи классификации с несбалансированными классами. Например, это может значить, что в датасете намного больше примеров 0 класса. В таких случаях нужно 1) не использовать accuracy как метрику 2) использовать методы борьбы с imbalanced dataset (обычно если датасет сильно несбалансирован, т.е. класса 1 в 20 раз меньше класса 0)."
   ]
  },
  {
   "cell_type": "code",
   "execution_count": null,
   "metadata": {
    "id": "NZkbgFJZEEZE"
   },
   "outputs": [],
   "source": [
    "# посмотрим на количественные признаки\n",
    "data.describe()"
   ]
  },
  {
   "cell_type": "code",
   "execution_count": null,
   "metadata": {
    "scrolled": true
   },
   "outputs": [],
   "source": [
    "# ClienPerion есть нули, что это может значить?\n",
    "print(len(data[data['ClientPeriod'] == 0]))\n",
    "data[data['ClientPeriod'] == 0].head()"
   ]
  },
  {
   "cell_type": "code",
   "execution_count": null,
   "metadata": {
    "scrolled": true
   },
   "outputs": [],
   "source": [
    "fig = px.histogram(\n",
    "    data,\n",
    "    x=\"MonthlySpending\",\n",
    "    width=600,\n",
    "    height=300,\n",
    "    title=\"Гистограмма по месячным затратам\",\n",
    "    labels={\"x\": \"Затраты в месяц\"},\n",
    ")\n",
    "fig.update_yaxes(title_text=\"количество\")\n",
    "fig.show()"
   ]
  },
  {
   "cell_type": "code",
   "execution_count": null,
   "metadata": {},
   "outputs": [],
   "source": [
    "#преобразуем TotalSpent в числа и посмотрим на данные\n",
    "data['TotalSpent'] = pd.to_numeric(data['TotalSpent'], errors='coerce')"
   ]
  },
  {
   "cell_type": "code",
   "execution_count": null,
   "metadata": {},
   "outputs": [],
   "source": [
    "data['TotalSpent'].isna().sum()"
   ]
  },
  {
   "cell_type": "code",
   "execution_count": null,
   "metadata": {},
   "outputs": [],
   "source": [
    "data['TotalSpent'].describe()"
   ]
  },
  {
   "cell_type": "code",
   "execution_count": null,
   "metadata": {},
   "outputs": [],
   "source": [
    "# посмотрим на категориальные признаки\n",
    "for column in cat_cols:\n",
    "    print(column, data[column].unique())"
   ]
  },
  {
   "cell_type": "markdown",
   "metadata": {},
   "source": [
    "### Рекомендации по подготовке данных\n",
    "1. ClientPeriod, нулевые их всего 9 штук, непонятно, что может значть 0 в этой колонке, когда MontlySpending есть. У них отсутствует TotalSpent, так что это возможно те, которые только подключились. Если мы их удалим, то возможно, модель не научится работать с такими абонентами, попробуем оставить. У них пропуски в TotalSpent надо заменить на нули\n",
    "2. 26% от общего числа принадлежат к классу 1. В общем классы несбалансированы, но не радикально\n",
    "3. Категориальные признаки понятные, 2-4 градации на признак"
   ]
  },
  {
   "cell_type": "markdown",
   "metadata": {
    "id": "zg60u3QDEEZH"
   },
   "source": [
    "(Дополнительно) Если вы нашли какие-то ошибки в данных или выбросы, то можете их убрать. Тут можно поэксперементировать с обработкой данных как угодно, но не за баллы."
   ]
  },
  {
   "cell_type": "markdown",
   "metadata": {
    "id": "DviiJd8REEZK"
   },
   "source": [
    "## Применение линейных моделей (3 балла)\n",
    "\n",
    "1) Обработайте данные для того, чтобы к ним можно было применить LogisticRegression. Т.е. отнормируйте числовые признаки, а категориальные закодируйте с помощью one-hot-encoding'а. \n",
    "\n",
    "2) С помощью кроссвалидации или разделения на train/valid выборку протестируйте разные значения гиперпараметра C и выберите лучший (можно тестировать С=100, 10, 1, 0.1, 0.01, 0.001) по метрике ROC-AUC. \n",
    "\n",
    "Если вы разделяете на train/valid, то используйте LogisticRegressionCV. Он сам при вызове .fit() подберет параметр С. (не забудьте передать scroing='roc_auc', чтобы при кроссвалидации сравнивались значения этой метрики, и refit=True, чтобы при потом модель обучилась на всем датасете с лучшим параметром C). \n",
    "\n",
    "\n",
    "(более сложный вариант) Если вы будете использовать кроссвалидацию, то преобразования данных и LogisticRegression нужно соединить в один Pipeline с помощью make_pipeline, как это делалось во втором семинаре. Потом pipeline надо передать в GridSearchCV. Для one-hot-encoding'a можно испльзовать комбинацию LabelEncoder + OneHotEncoder (сначала превращаем строчки в числа, а потом числа првращаем в one-hot вектора.)"
   ]
  },
  {
   "cell_type": "code",
   "execution_count": 5,
   "metadata": {
    "id": "xHCLDmwqEEZL"
   },
   "outputs": [],
   "source": [
    "from sklearn.linear_model import LogisticRegression, LogisticRegressionCV\n",
    "from sklearn.model_selection import train_test_split, GridSearchCV\n",
    "from sklearn.preprocessing import StandardScaler, RobustScaler, LabelEncoder, OneHotEncoder\n",
    "from sklearn.pipeline import make_pipeline\n",
    "from sklearn.ensemble import RandomForestClassifier\n",
    "from sklearn.pipeline import Pipeline\n",
    "from sklearn.compose import ColumnTransformer"
   ]
  },
  {
   "cell_type": "code",
   "execution_count": 6,
   "metadata": {
    "id": "P2Yv3uYtEEZO"
   },
   "outputs": [],
   "source": [
    "# Напишем функцию для чистки данных (это можно делать до разделения на train|val)\n",
    "def data_cleaning(data):\n",
    "    if data['TotalSpent'].dtype != 'float64':\n",
    "        data['TotalSpent'] = pd.to_numeric(data['TotalSpent'], errors='coerce')\n",
    "    \n",
    "    #if data['IsSeniorCitizen'].dtype == 'int64':\n",
    "     #   data['IsSeniorCitizen'] = data['IsSeniorCitizen'].astype(str)\n",
    "        \n",
    "    data.fillna(value = 0, inplace=True)"
   ]
  },
  {
   "cell_type": "code",
   "execution_count": 20,
   "metadata": {},
   "outputs": [],
   "source": [
    "data_cleaning(data)"
   ]
  },
  {
   "cell_type": "code",
   "execution_count": 21,
   "metadata": {},
   "outputs": [
    {
     "data": {
      "text/html": [
       "<div>\n",
       "<style scoped>\n",
       "    .dataframe tbody tr th:only-of-type {\n",
       "        vertical-align: middle;\n",
       "    }\n",
       "\n",
       "    .dataframe tbody tr th {\n",
       "        vertical-align: top;\n",
       "    }\n",
       "\n",
       "    .dataframe thead th {\n",
       "        text-align: right;\n",
       "    }\n",
       "</style>\n",
       "<table border=\"1\" class=\"dataframe\">\n",
       "  <thead>\n",
       "    <tr style=\"text-align: right;\">\n",
       "      <th></th>\n",
       "      <th>ClientPeriod</th>\n",
       "      <th>MonthlySpending</th>\n",
       "      <th>TotalSpent</th>\n",
       "      <th>Sex</th>\n",
       "      <th>IsSeniorCitizen</th>\n",
       "      <th>HasPartner</th>\n",
       "      <th>HasChild</th>\n",
       "      <th>HasPhoneService</th>\n",
       "      <th>HasMultiplePhoneNumbers</th>\n",
       "      <th>HasInternetService</th>\n",
       "      <th>HasOnlineSecurityService</th>\n",
       "      <th>HasOnlineBackup</th>\n",
       "      <th>HasDeviceProtection</th>\n",
       "      <th>HasTechSupportAccess</th>\n",
       "      <th>HasOnlineTV</th>\n",
       "      <th>HasMovieSubscription</th>\n",
       "      <th>HasContractPhone</th>\n",
       "      <th>IsBillingPaperless</th>\n",
       "      <th>PaymentMethod</th>\n",
       "      <th>Churn</th>\n",
       "    </tr>\n",
       "  </thead>\n",
       "  <tbody>\n",
       "    <tr>\n",
       "      <th>0</th>\n",
       "      <td>55</td>\n",
       "      <td>19.50</td>\n",
       "      <td>1026.35</td>\n",
       "      <td>Male</td>\n",
       "      <td>0</td>\n",
       "      <td>Yes</td>\n",
       "      <td>Yes</td>\n",
       "      <td>Yes</td>\n",
       "      <td>No</td>\n",
       "      <td>No</td>\n",
       "      <td>No internet service</td>\n",
       "      <td>No internet service</td>\n",
       "      <td>No internet service</td>\n",
       "      <td>No internet service</td>\n",
       "      <td>No internet service</td>\n",
       "      <td>No internet service</td>\n",
       "      <td>One year</td>\n",
       "      <td>No</td>\n",
       "      <td>Mailed check</td>\n",
       "      <td>0</td>\n",
       "    </tr>\n",
       "    <tr>\n",
       "      <th>1</th>\n",
       "      <td>72</td>\n",
       "      <td>25.85</td>\n",
       "      <td>1872.20</td>\n",
       "      <td>Male</td>\n",
       "      <td>0</td>\n",
       "      <td>Yes</td>\n",
       "      <td>No</td>\n",
       "      <td>Yes</td>\n",
       "      <td>Yes</td>\n",
       "      <td>No</td>\n",
       "      <td>No internet service</td>\n",
       "      <td>No internet service</td>\n",
       "      <td>No internet service</td>\n",
       "      <td>No internet service</td>\n",
       "      <td>No internet service</td>\n",
       "      <td>No internet service</td>\n",
       "      <td>Two year</td>\n",
       "      <td>No</td>\n",
       "      <td>Credit card (automatic)</td>\n",
       "      <td>0</td>\n",
       "    </tr>\n",
       "  </tbody>\n",
       "</table>\n",
       "</div>"
      ],
      "text/plain": [
       "   ClientPeriod  MonthlySpending  TotalSpent   Sex  IsSeniorCitizen  \\\n",
       "0            55            19.50     1026.35  Male                0   \n",
       "1            72            25.85     1872.20  Male                0   \n",
       "\n",
       "  HasPartner HasChild HasPhoneService HasMultiplePhoneNumbers  \\\n",
       "0        Yes      Yes             Yes                      No   \n",
       "1        Yes       No             Yes                     Yes   \n",
       "\n",
       "  HasInternetService HasOnlineSecurityService      HasOnlineBackup  \\\n",
       "0                 No      No internet service  No internet service   \n",
       "1                 No      No internet service  No internet service   \n",
       "\n",
       "   HasDeviceProtection HasTechSupportAccess          HasOnlineTV  \\\n",
       "0  No internet service  No internet service  No internet service   \n",
       "1  No internet service  No internet service  No internet service   \n",
       "\n",
       "  HasMovieSubscription HasContractPhone IsBillingPaperless  \\\n",
       "0  No internet service         One year                 No   \n",
       "1  No internet service         Two year                 No   \n",
       "\n",
       "             PaymentMethod  Churn  \n",
       "0             Mailed check      0  \n",
       "1  Credit card (automatic)      0  "
      ]
     },
     "execution_count": 21,
     "metadata": {},
     "output_type": "execute_result"
    }
   ],
   "source": [
    "data.head(2)"
   ]
  },
  {
   "cell_type": "markdown",
   "metadata": {},
   "source": [
    "## Alex AutoML"
   ]
  },
  {
   "cell_type": "code",
   "execution_count": 9,
   "metadata": {},
   "outputs": [
    {
     "name": "stdout",
     "output_type": "stream",
     "text": [
      "AutoML-Alex version: 1.3.10\n"
     ]
    }
   ],
   "source": [
    "import automl_alex\n",
    "import time\n",
    "from automl_alex import DataPrepare\n",
    "from automl_alex import AutoML, AutoMLClassifier, AutoMLRegressor\n",
    "print('AutoML-Alex version:', automl_alex.__version__)"
   ]
  },
  {
   "cell_type": "code",
   "execution_count": 22,
   "metadata": {},
   "outputs": [
    {
     "ename": "IndentationError",
     "evalue": "unexpected indent (<ipython-input-22-a279657040c6>, line 2)",
     "output_type": "error",
     "traceback": [
      "\u001b[1;36m  File \u001b[1;32m\"<ipython-input-22-a279657040c6>\"\u001b[1;36m, line \u001b[1;32m2\u001b[0m\n\u001b[1;33m    train_size=0.8,\u001b[0m\n\u001b[1;37m    ^\u001b[0m\n\u001b[1;31mIndentationError\u001b[0m\u001b[1;31m:\u001b[0m unexpected indent\n"
     ]
    }
   ],
   "source": [
    "# кажется, здесь нам это не нужно, можно обучить на всем сете и затем проверить на тесте\n",
    "data_train, data_val, target_train, target_val = train_test_split(data[feature_cols], data[target_col], \n",
    "                                                    train_size=0.8,\n",
    "                                                    random_state=42)"
   ]
  },
  {
   "cell_type": "code",
   "execution_count": 24,
   "metadata": {},
   "outputs": [
    {
     "name": "stderr",
     "output_type": "stream",
     "text": [
      "\u001b[32m11:31:02\u001b[0m | \u001b[1m> Start Fit Base Model\u001b[0m\n",
      "\u001b[32m11:31:46\u001b[0m | \u001b[1m##################################################\u001b[0m\n",
      "\u001b[32m11:31:46\u001b[0m | \u001b[1m> Start Fit Models 2\u001b[0m\n",
      "\u001b[32m11:31:46\u001b[0m | \u001b[1m##################################################\u001b[0m\n",
      "\u001b[32m11:31:46\u001b[0m | \u001b[1m##################################################\u001b[0m\n",
      "\u001b[32m11:31:47\u001b[0m | \u001b[1m> Step 1: calc parameters and pruned score: get test 10 trials\u001b[0m\n",
      "\u001b[32m11:32:53\u001b[0m | \u001b[1m One iteration ~ 6.6 sec\u001b[0m\n",
      "\u001b[32m11:32:53\u001b[0m | \u001b[1m Possible iters ~ 276.0\u001b[0m\n",
      "\u001b[32m11:32:53\u001b[0m | \u001b[1m--------------------------------------------------\u001b[0m\n",
      "\u001b[32m11:32:53\u001b[0m | \u001b[1m  Pruned Threshold Score: 0.8284\u001b[0m\n",
      "\u001b[32m11:32:53\u001b[0m | \u001b[1m##################################################\u001b[0m\n",
      "\u001b[32m11:32:53\u001b[0m | \u001b[1m> Step 2: Full opt with Threshold Score Pruner\u001b[0m\n",
      "\u001b[32m11:32:53\u001b[0m | \u001b[1m##################################################\u001b[0m\n",
      "\u001b[32m11:32:53\u001b[0m | \u001b[1m> Start optimization with the parameters:\u001b[0m\n",
      "\u001b[32m11:32:53\u001b[0m | \u001b[1mCV_Folds = 7\u001b[0m\n",
      "\u001b[32m11:32:53\u001b[0m | \u001b[1mScore_CV_Folds = 3\u001b[0m\n",
      "\u001b[32m11:32:53\u001b[0m | \u001b[1mFeature_Selection = False\u001b[0m\n",
      "\u001b[32m11:32:53\u001b[0m | \u001b[1mOpt_lvl = 2\u001b[0m\n",
      "\u001b[32m11:32:53\u001b[0m | \u001b[1mCold_start = 20\u001b[0m\n",
      "\u001b[32m11:32:53\u001b[0m | \u001b[1mEarly_stoping = 30\u001b[0m\n",
      "\u001b[32m11:32:53\u001b[0m | \u001b[1mMetric = roc_auc_score\u001b[0m\n",
      "\u001b[32m11:32:53\u001b[0m | \u001b[1mDirection = maximize\u001b[0m\n",
      "\u001b[32m11:32:53\u001b[0m | \u001b[1m##################################################\u001b[0m\n",
      "Optimize: : 325it [19:09,  3.54s/it, | Model: LightGBM | OptScore: 0.8434 | Best roc_auc_score: 0.8451 ]\n",
      "\u001b[32m11:52:03\u001b[0m | \u001b[1m\n",
      " EarlyStopping Exceeded: Best Score: 0.8451 roc_auc_score\u001b[0m\n",
      "\u001b[32m11:52:03\u001b[0m | \u001b[1m> Finish Opt!\u001b[0m\n",
      "\u001b[32m11:52:03\u001b[0m | \u001b[1mBest Score: 0.8451 roc_auc_score\u001b[0m\n",
      "\u001b[32m11:52:03\u001b[0m | \u001b[1m##################################################\u001b[0m\n",
      "\u001b[32m11:52:03\u001b[0m | \u001b[1m> Fit Best Models\u001b[0m\n",
      "\u001b[32m11:52:03\u001b[0m | \u001b[1m##################################################\u001b[0m\n",
      "\u001b[32m11:52:08\u001b[0m | \u001b[1mSave DataPrepare\u001b[0m\n",
      "\u001b[32m11:52:14\u001b[0m | \u001b[1mSave DataPrepare\u001b[0m\n",
      "\u001b[32m11:52:20\u001b[0m | \u001b[1mSave DataPrepare\u001b[0m\n",
      "\u001b[32m11:52:25\u001b[0m | \u001b[1mSave DataPrepare\u001b[0m\n",
      "\u001b[32m11:52:31\u001b[0m | \u001b[1mSave DataPrepare\u001b[0m\n",
      "\u001b[32m11:52:32\u001b[0m | \u001b[1m##################################################\u001b[0m\n",
      "\u001b[32m11:52:32\u001b[0m | \u001b[1m> Finish!\u001b[0m\n"
     ]
    },
    {
     "data": {
      "text/plain": [
       "<automl_alex.automl_alex.AutoMLClassifier at 0x1a168740f40>"
      ]
     },
     "execution_count": 24,
     "metadata": {},
     "output_type": "execute_result"
    }
   ],
   "source": [
    "model = AutoMLClassifier(random_state=42)\n",
    "model.fit(data[feature_cols], data[target_col], timeout=2000)"
   ]
  },
  {
   "cell_type": "code",
   "execution_count": 57,
   "metadata": {},
   "outputs": [],
   "source": [
    "X_test = pd.read_csv('./test.csv')\n",
    "submission = pd.read_csv('./submission.csv')"
   ]
  },
  {
   "cell_type": "code",
   "execution_count": 58,
   "metadata": {},
   "outputs": [],
   "source": [
    "data_cleaning(X_test)"
   ]
  },
  {
   "cell_type": "code",
   "execution_count": 27,
   "metadata": {},
   "outputs": [
    {
     "data": {
      "text/plain": [
       "0       0.031769\n",
       "1       0.672322\n",
       "2       0.620734\n",
       "3       0.017940\n",
       "4       0.005140\n",
       "          ...   \n",
       "1756    0.126961\n",
       "1757    0.012736\n",
       "1758    0.796514\n",
       "1759    0.520109\n",
       "1760    0.012345\n",
       "Length: 1761, dtype: float64"
      ]
     },
     "execution_count": 27,
     "metadata": {},
     "output_type": "execute_result"
    }
   ],
   "source": [
    "predicts = model.predict(X_test)\n",
    "predicts"
   ]
  },
  {
   "cell_type": "code",
   "execution_count": 28,
   "metadata": {},
   "outputs": [],
   "source": [
    "submission['Churn'] = predicts\n",
    "submission.to_csv('./my_submission.csv', index=False)"
   ]
  },
  {
   "cell_type": "markdown",
   "metadata": {},
   "source": [
    "0.85339 - это лучший мой результат! И он получен на AutoML, есть повод задуматься. Это результат получен на неполной выборке\n",
    "На полном датасете он показал еще больше 0.85469"
   ]
  },
  {
   "cell_type": "markdown",
   "metadata": {},
   "source": [
    "### А что есть доверить Alex и чистку данных?"
   ]
  },
  {
   "cell_type": "code",
   "execution_count": 29,
   "metadata": {},
   "outputs": [],
   "source": [
    "from automl_alex import DataPrepare"
   ]
  },
  {
   "cell_type": "code",
   "execution_count": 30,
   "metadata": {},
   "outputs": [],
   "source": [
    "X_train, y_train = data[feature_cols], data[target_col]"
   ]
  },
  {
   "cell_type": "code",
   "execution_count": 33,
   "metadata": {},
   "outputs": [
    {
     "name": "stderr",
     "output_type": "stream",
     "text": [
      "\u001b[32m11:58:15\u001b[0m | \u001b[1mSource data shape: (5282, 19)\u001b[0m\n",
      "\u001b[32m11:58:15\u001b[0m | \u001b[1m##################################################\u001b[0m\n",
      "\u001b[32m11:58:15\u001b[0m | \u001b[1m! START preprocessing Data\u001b[0m\n",
      "\u001b[32m11:58:15\u001b[0m | \u001b[1m- Auto detect cat features: 10\u001b[0m\n",
      "\u001b[32m11:58:15\u001b[0m | \u001b[1m> Binary Features\u001b[0m\n",
      "\u001b[32m11:58:15\u001b[0m | \u001b[1m> Clean Categorical Features\u001b[0m\n",
      "\u001b[32m11:58:15\u001b[0m | \u001b[1m> Transform Categorical Features.\u001b[0m\n",
      "\u001b[32m11:58:15\u001b[0m | \u001b[1m - Encoder: HelmertEncoder ADD features: 21\u001b[0m\n",
      "\u001b[32m11:58:16\u001b[0m | \u001b[1m - Encoder: OneHotEncoder ADD features: 31\u001b[0m\n",
      "\u001b[32m11:58:16\u001b[0m | \u001b[1m  No nans features\u001b[0m\n",
      "\u001b[32m11:58:16\u001b[0m | \u001b[1m> Start fit DenoisingAutoencoder\u001b[0m\n"
     ]
    },
    {
     "name": "stdout",
     "output_type": "stream",
     "text": [
      "Epoch 1/50\n",
      "Epoch 2/50\n",
      "Epoch 3/50\n",
      "Epoch 4/50\n",
      "Epoch 5/50\n",
      "Epoch 6/50\n",
      "Epoch 7/50\n",
      "Epoch 8/50\n",
      "Epoch 9/50\n",
      "Epoch 10/50\n",
      "Epoch 11/50\n",
      "Epoch 12/50\n",
      "Epoch 13/50\n",
      "Epoch 14/50\n",
      "Epoch 15/50\n",
      "Epoch 16/50\n",
      "Epoch 17/50\n",
      "Epoch 18/50\n",
      "Epoch 19/50\n",
      "Epoch 20/50\n",
      "Epoch 21/50\n",
      "Epoch 22/50\n",
      "Epoch 23/50\n",
      "Epoch 24/50\n",
      "Epoch 25/50\n",
      "Epoch 26/50\n",
      "Epoch 27/50\n",
      "Epoch 28/50\n",
      "Epoch 29/50\n",
      "Epoch 30/50\n",
      "Epoch 31/50\n",
      "Epoch 32/50\n",
      "Epoch 33/50\n",
      "Epoch 34/50\n",
      "Epoch 35/50\n",
      "Epoch 36/50\n",
      "Epoch 37/50\n",
      "Epoch 38/50\n",
      "Epoch 39/50\n",
      "Epoch 40/50\n",
      "Epoch 41/50\n",
      "Epoch 42/50\n",
      "Epoch 43/50\n",
      "Epoch 44/50\n",
      "Epoch 45/50\n",
      "Epoch 46/50\n",
      "Epoch 47/50\n",
      "Epoch 48/50\n",
      "Epoch 49/50\n",
      "Epoch 50/50\n"
     ]
    },
    {
     "name": "stderr",
     "output_type": "stream",
     "text": [
      "\u001b[32m11:59:02\u001b[0m | \u001b[1m> Add Denoising features\u001b[0m\n",
      "\u001b[32m11:59:02\u001b[0m | \u001b[1m> CleanOutliers\u001b[0m\n",
      "\u001b[32m11:59:02\u001b[0m | \u001b[1m> Generate interaction Num Features\u001b[0m\n",
      "\u001b[32m11:59:02\u001b[0m | \u001b[1m ADD features: 15\u001b[0m\n",
      "\u001b[32m11:59:02\u001b[0m | \u001b[1m> Normalization Features\u001b[0m\n",
      "\u001b[32m11:59:02\u001b[0m | \u001b[1m##################################################\u001b[0m\n",
      "\u001b[32m11:59:02\u001b[0m | \u001b[1mFinal data shape: (5282, 92)\u001b[0m\n",
      "\u001b[32m11:59:02\u001b[0m | \u001b[1mTotal ADD columns: 73\u001b[0m\n",
      "\u001b[32m11:59:02\u001b[0m | \u001b[1mTime fit data_preproc: 47.06 sec\u001b[0m\n",
      "\u001b[32m11:59:02\u001b[0m | \u001b[1m##################################################\u001b[0m\n"
     ]
    },
    {
     "name": "stdout",
     "output_type": "stream",
     "text": [
      "Wall time: 47.1 s\n"
     ]
    }
   ],
   "source": [
    "%%time\n",
    "de = DataPrepare(clean_and_encod_data=True,\n",
    "                cat_encoder_names=['HelmertEncoder','OneHotEncoder'], # Encoders list for Generator cat encodet features\n",
    "                clean_nan=True, # fillnan\n",
    "                clean_outliers=True, # method='IQR', threshold=2,\n",
    "                drop_invariant=True, # drop invariant features (data.nunique < 2)\n",
    "                num_generator_features=True, # Generator interaction Num Features\n",
    "                num_denoising_autoencoder=True, # denoising_autoencoder if num features > 2\n",
    "                normalization=True, # normalization data (StandardScaler)\n",
    "                cat_features=None, # DataPrepare can auto detect categorical features\n",
    "                random_state=42,\n",
    "                verbose=3)\n",
    "clean_X_train = de.fit_transform(X_train)"
   ]
  },
  {
   "cell_type": "code",
   "execution_count": 38,
   "metadata": {},
   "outputs": [
    {
     "data": {
      "text/html": [
       "<div>\n",
       "<style scoped>\n",
       "    .dataframe tbody tr th:only-of-type {\n",
       "        vertical-align: middle;\n",
       "    }\n",
       "\n",
       "    .dataframe tbody tr th {\n",
       "        vertical-align: top;\n",
       "    }\n",
       "\n",
       "    .dataframe thead th {\n",
       "        text-align: right;\n",
       "    }\n",
       "</style>\n",
       "<table border=\"1\" class=\"dataframe\">\n",
       "  <thead>\n",
       "    <tr style=\"text-align: right;\">\n",
       "      <th></th>\n",
       "      <th>Sex</th>\n",
       "      <th>IsSeniorCitizen</th>\n",
       "      <th>HasPartner</th>\n",
       "      <th>HasChild</th>\n",
       "      <th>HasPhoneService</th>\n",
       "      <th>IsBillingPaperless</th>\n",
       "      <th>HelmertEncoder_HasMultiplePhoneNumbers_1</th>\n",
       "      <th>HelmertEncoder_HasInternetService_1</th>\n",
       "      <th>HelmertEncoder_HasOnlineSecurityService_1</th>\n",
       "      <th>HelmertEncoder_HasOnlineBackup_1</th>\n",
       "      <th>...</th>\n",
       "      <th>TotalSpent_-_ClientPeriod</th>\n",
       "      <th>TotalSpent_/_MonthlySpending</th>\n",
       "      <th>TotalSpent_-_MonthlySpending</th>\n",
       "      <th>MonthlySpending_/_ClientPeriod</th>\n",
       "      <th>MonthlySpending_-_ClientPeriod</th>\n",
       "      <th>MonthlySpending_/_TotalSpent</th>\n",
       "      <th>MonthlySpending_-_TotalSpent</th>\n",
       "      <th>ClientPeriod_*_TotalSpent</th>\n",
       "      <th>ClientPeriod_*_MonthlySpending</th>\n",
       "      <th>TotalSpent_*_MonthlySpending</th>\n",
       "    </tr>\n",
       "  </thead>\n",
       "  <tbody>\n",
       "    <tr>\n",
       "      <th>0</th>\n",
       "      <td>1</td>\n",
       "      <td>0</td>\n",
       "      <td>1</td>\n",
       "      <td>1</td>\n",
       "      <td>1</td>\n",
       "      <td>1</td>\n",
       "      <td>-1.0</td>\n",
       "      <td>-1.0</td>\n",
       "      <td>-1.0</td>\n",
       "      <td>-1.0</td>\n",
       "      <td>...</td>\n",
       "      <td>-0.570910</td>\n",
       "      <td>0.823215</td>\n",
       "      <td>-0.540490</td>\n",
       "      <td>-0.506536</td>\n",
       "      <td>-2.011662</td>\n",
       "      <td>-0.490326</td>\n",
       "      <td>0.540490</td>\n",
       "      <td>-0.406050</td>\n",
       "      <td>-0.535987</td>\n",
       "      <td>-0.727311</td>\n",
       "    </tr>\n",
       "    <tr>\n",
       "      <th>1</th>\n",
       "      <td>1</td>\n",
       "      <td>0</td>\n",
       "      <td>1</td>\n",
       "      <td>0</td>\n",
       "      <td>1</td>\n",
       "      <td>1</td>\n",
       "      <td>-1.0</td>\n",
       "      <td>-1.0</td>\n",
       "      <td>-1.0</td>\n",
       "      <td>-1.0</td>\n",
       "      <td>...</td>\n",
       "      <td>-0.202300</td>\n",
       "      <td>1.628250</td>\n",
       "      <td>-0.167259</td>\n",
       "      <td>-0.506259</td>\n",
       "      <td>-2.326595</td>\n",
       "      <td>-0.508858</td>\n",
       "      <td>0.167259</td>\n",
       "      <td>0.093384</td>\n",
       "      <td>-0.188233</td>\n",
       "      <td>-0.608082</td>\n",
       "    </tr>\n",
       "    <tr>\n",
       "      <th>2</th>\n",
       "      <td>1</td>\n",
       "      <td>0</td>\n",
       "      <td>0</td>\n",
       "      <td>0</td>\n",
       "      <td>1</td>\n",
       "      <td>0</td>\n",
       "      <td>-1.0</td>\n",
       "      <td>-1.0</td>\n",
       "      <td>-1.0</td>\n",
       "      <td>-1.0</td>\n",
       "      <td>...</td>\n",
       "      <td>-0.969583</td>\n",
       "      <td>-1.276936</td>\n",
       "      <td>-0.988123</td>\n",
       "      <td>4.157874</td>\n",
       "      <td>1.252998</td>\n",
       "      <td>3.011050</td>\n",
       "      <td>0.988123</td>\n",
       "      <td>-0.765399</td>\n",
       "      <td>-0.975409</td>\n",
       "      <td>-0.787185</td>\n",
       "    </tr>\n",
       "    <tr>\n",
       "      <th>3</th>\n",
       "      <td>0</td>\n",
       "      <td>1</td>\n",
       "      <td>1</td>\n",
       "      <td>0</td>\n",
       "      <td>1</td>\n",
       "      <td>1</td>\n",
       "      <td>-1.0</td>\n",
       "      <td>-1.0</td>\n",
       "      <td>-1.0</td>\n",
       "      <td>-1.0</td>\n",
       "      <td>...</td>\n",
       "      <td>0.125817</td>\n",
       "      <td>0.000587</td>\n",
       "      <td>0.119211</td>\n",
       "      <td>-0.375420</td>\n",
       "      <td>0.436833</td>\n",
       "      <td>-0.448008</td>\n",
       "      <td>-0.119211</td>\n",
       "      <td>-0.241647</td>\n",
       "      <td>0.110006</td>\n",
       "      <td>0.044740</td>\n",
       "    </tr>\n",
       "    <tr>\n",
       "      <th>4</th>\n",
       "      <td>0</td>\n",
       "      <td>0</td>\n",
       "      <td>1</td>\n",
       "      <td>1</td>\n",
       "      <td>1</td>\n",
       "      <td>1</td>\n",
       "      <td>-1.0</td>\n",
       "      <td>-1.0</td>\n",
       "      <td>2.0</td>\n",
       "      <td>2.0</td>\n",
       "      <td>...</td>\n",
       "      <td>1.976071</td>\n",
       "      <td>1.067599</td>\n",
       "      <td>1.965360</td>\n",
       "      <td>-0.409829</td>\n",
       "      <td>0.671924</td>\n",
       "      <td>-0.497274</td>\n",
       "      <td>-1.965360</td>\n",
       "      <td>1.819004</td>\n",
       "      <td>2.040092</td>\n",
       "      <td>2.460658</td>\n",
       "    </tr>\n",
       "  </tbody>\n",
       "</table>\n",
       "<p>5 rows × 92 columns</p>\n",
       "</div>"
      ],
      "text/plain": [
       "   Sex  IsSeniorCitizen  HasPartner  HasChild  HasPhoneService  \\\n",
       "0    1                0           1         1                1   \n",
       "1    1                0           1         0                1   \n",
       "2    1                0           0         0                1   \n",
       "3    0                1           1         0                1   \n",
       "4    0                0           1         1                1   \n",
       "\n",
       "   IsBillingPaperless  HelmertEncoder_HasMultiplePhoneNumbers_1  \\\n",
       "0                   1                                      -1.0   \n",
       "1                   1                                      -1.0   \n",
       "2                   0                                      -1.0   \n",
       "3                   1                                      -1.0   \n",
       "4                   1                                      -1.0   \n",
       "\n",
       "   HelmertEncoder_HasInternetService_1  \\\n",
       "0                                 -1.0   \n",
       "1                                 -1.0   \n",
       "2                                 -1.0   \n",
       "3                                 -1.0   \n",
       "4                                 -1.0   \n",
       "\n",
       "   HelmertEncoder_HasOnlineSecurityService_1  \\\n",
       "0                                       -1.0   \n",
       "1                                       -1.0   \n",
       "2                                       -1.0   \n",
       "3                                       -1.0   \n",
       "4                                        2.0   \n",
       "\n",
       "   HelmertEncoder_HasOnlineBackup_1  ...  TotalSpent_-_ClientPeriod  \\\n",
       "0                              -1.0  ...                  -0.570910   \n",
       "1                              -1.0  ...                  -0.202300   \n",
       "2                              -1.0  ...                  -0.969583   \n",
       "3                              -1.0  ...                   0.125817   \n",
       "4                               2.0  ...                   1.976071   \n",
       "\n",
       "   TotalSpent_/_MonthlySpending  TotalSpent_-_MonthlySpending  \\\n",
       "0                      0.823215                     -0.540490   \n",
       "1                      1.628250                     -0.167259   \n",
       "2                     -1.276936                     -0.988123   \n",
       "3                      0.000587                      0.119211   \n",
       "4                      1.067599                      1.965360   \n",
       "\n",
       "   MonthlySpending_/_ClientPeriod  MonthlySpending_-_ClientPeriod  \\\n",
       "0                       -0.506536                       -2.011662   \n",
       "1                       -0.506259                       -2.326595   \n",
       "2                        4.157874                        1.252998   \n",
       "3                       -0.375420                        0.436833   \n",
       "4                       -0.409829                        0.671924   \n",
       "\n",
       "   MonthlySpending_/_TotalSpent  MonthlySpending_-_TotalSpent  \\\n",
       "0                     -0.490326                      0.540490   \n",
       "1                     -0.508858                      0.167259   \n",
       "2                      3.011050                      0.988123   \n",
       "3                     -0.448008                     -0.119211   \n",
       "4                     -0.497274                     -1.965360   \n",
       "\n",
       "   ClientPeriod_*_TotalSpent  ClientPeriod_*_MonthlySpending  \\\n",
       "0                  -0.406050                       -0.535987   \n",
       "1                   0.093384                       -0.188233   \n",
       "2                  -0.765399                       -0.975409   \n",
       "3                  -0.241647                        0.110006   \n",
       "4                   1.819004                        2.040092   \n",
       "\n",
       "   TotalSpent_*_MonthlySpending  \n",
       "0                     -0.727311  \n",
       "1                     -0.608082  \n",
       "2                     -0.787185  \n",
       "3                      0.044740  \n",
       "4                      2.460658  \n",
       "\n",
       "[5 rows x 92 columns]"
      ]
     },
     "execution_count": 38,
     "metadata": {},
     "output_type": "execute_result"
    }
   ],
   "source": [
    "clean_X_train.head(5)"
   ]
  },
  {
   "cell_type": "code",
   "execution_count": 59,
   "metadata": {},
   "outputs": [],
   "source": [
    "X_train = X_test[feature_cols]"
   ]
  },
  {
   "cell_type": "code",
   "execution_count": 60,
   "metadata": {},
   "outputs": [
    {
     "name": "stderr",
     "output_type": "stream",
     "text": [
      "\u001b[32m13:14:09\u001b[0m | \u001b[1m##################################################\u001b[0m\n",
      "\u001b[32m13:14:09\u001b[0m | \u001b[1m! Start Transform Data\u001b[0m\n",
      "\u001b[32m13:14:09\u001b[0m | \u001b[1m> Clean Binary Features\u001b[0m\n",
      "\u001b[32m13:14:09\u001b[0m | \u001b[1m> Clean Categorical Features\u001b[0m\n",
      "\u001b[32m13:14:09\u001b[0m | \u001b[1m> Transform Categorical Features.\u001b[0m\n",
      "\u001b[32m13:14:09\u001b[0m | \u001b[1m - Encoder: HelmertEncoder ADD features: 21\u001b[0m\n",
      "\u001b[32m13:14:09\u001b[0m | \u001b[1m - Encoder: OneHotEncoder ADD features: 31\u001b[0m\n",
      "\u001b[32m13:14:10\u001b[0m | \u001b[1m> Add Denoising features\u001b[0m\n",
      "\u001b[32m13:14:10\u001b[0m | \u001b[1m> Generate interaction Num Features\u001b[0m\n",
      "\u001b[32m13:14:10\u001b[0m | \u001b[1m ADD features: 15\u001b[0m\n",
      "\u001b[32m13:14:10\u001b[0m | \u001b[1m> Normalization Features\u001b[0m\n",
      "\u001b[32m13:14:10\u001b[0m | \u001b[1m##################################################\u001b[0m\n",
      "\u001b[32m13:14:10\u001b[0m | \u001b[1mFinal data shape: (1761, 92)\u001b[0m\n",
      "\u001b[32m13:14:10\u001b[0m | \u001b[1mTotal ADD columns: 73\u001b[0m\n",
      "\u001b[32m13:14:10\u001b[0m | \u001b[1m##################################################\u001b[0m\n"
     ]
    }
   ],
   "source": [
    "clean_X_test = de.transform(X_test)"
   ]
  },
  {
   "cell_type": "code",
   "execution_count": 36,
   "metadata": {},
   "outputs": [
    {
     "data": {
      "text/html": [
       "<div>\n",
       "<style scoped>\n",
       "    .dataframe tbody tr th:only-of-type {\n",
       "        vertical-align: middle;\n",
       "    }\n",
       "\n",
       "    .dataframe tbody tr th {\n",
       "        vertical-align: top;\n",
       "    }\n",
       "\n",
       "    .dataframe thead th {\n",
       "        text-align: right;\n",
       "    }\n",
       "</style>\n",
       "<table border=\"1\" class=\"dataframe\">\n",
       "  <thead>\n",
       "    <tr style=\"text-align: right;\">\n",
       "      <th></th>\n",
       "      <th>Sex</th>\n",
       "      <th>IsSeniorCitizen</th>\n",
       "      <th>HasPartner</th>\n",
       "      <th>HasChild</th>\n",
       "      <th>HasPhoneService</th>\n",
       "      <th>IsBillingPaperless</th>\n",
       "      <th>HelmertEncoder_HasMultiplePhoneNumbers_1</th>\n",
       "      <th>HelmertEncoder_HasInternetService_1</th>\n",
       "      <th>HelmertEncoder_HasOnlineSecurityService_1</th>\n",
       "      <th>HelmertEncoder_HasOnlineBackup_1</th>\n",
       "      <th>...</th>\n",
       "      <th>TotalSpent_-_ClientPeriod</th>\n",
       "      <th>TotalSpent_/_MonthlySpending</th>\n",
       "      <th>TotalSpent_-_MonthlySpending</th>\n",
       "      <th>MonthlySpending_/_ClientPeriod</th>\n",
       "      <th>MonthlySpending_-_ClientPeriod</th>\n",
       "      <th>MonthlySpending_/_TotalSpent</th>\n",
       "      <th>MonthlySpending_-_TotalSpent</th>\n",
       "      <th>ClientPeriod_*_TotalSpent</th>\n",
       "      <th>ClientPeriod_*_MonthlySpending</th>\n",
       "      <th>TotalSpent_*_MonthlySpending</th>\n",
       "    </tr>\n",
       "  </thead>\n",
       "  <tbody>\n",
       "    <tr>\n",
       "      <th>0</th>\n",
       "      <td>1</td>\n",
       "      <td>0</td>\n",
       "      <td>1</td>\n",
       "      <td>0</td>\n",
       "      <td>1</td>\n",
       "      <td>1</td>\n",
       "      <td>-1.0</td>\n",
       "      <td>2.0</td>\n",
       "      <td>2.0</td>\n",
       "      <td>-1.0</td>\n",
       "      <td>...</td>\n",
       "      <td>0.039919</td>\n",
       "      <td>0.412934</td>\n",
       "      <td>0.048099</td>\n",
       "      <td>-0.445956</td>\n",
       "      <td>-0.544931</td>\n",
       "      <td>-0.474249</td>\n",
       "      <td>-0.048099</td>\n",
       "      <td>-0.126858</td>\n",
       "      <td>0.030023</td>\n",
       "      <td>-0.248890</td>\n",
       "    </tr>\n",
       "    <tr>\n",
       "      <th>1</th>\n",
       "      <td>1</td>\n",
       "      <td>1</td>\n",
       "      <td>1</td>\n",
       "      <td>0</td>\n",
       "      <td>1</td>\n",
       "      <td>0</td>\n",
       "      <td>-1.0</td>\n",
       "      <td>-1.0</td>\n",
       "      <td>-1.0</td>\n",
       "      <td>-1.0</td>\n",
       "      <td>...</td>\n",
       "      <td>0.320229</td>\n",
       "      <td>-0.077085</td>\n",
       "      <td>0.303692</td>\n",
       "      <td>-0.318713</td>\n",
       "      <td>1.093314</td>\n",
       "      <td>-0.441112</td>\n",
       "      <td>-0.303692</td>\n",
       "      <td>-0.210538</td>\n",
       "      <td>0.250615</td>\n",
       "      <td>0.431665</td>\n",
       "    </tr>\n",
       "    <tr>\n",
       "      <th>2</th>\n",
       "      <td>1</td>\n",
       "      <td>0</td>\n",
       "      <td>0</td>\n",
       "      <td>0</td>\n",
       "      <td>1</td>\n",
       "      <td>0</td>\n",
       "      <td>-1.0</td>\n",
       "      <td>-1.0</td>\n",
       "      <td>-1.0</td>\n",
       "      <td>-1.0</td>\n",
       "      <td>...</td>\n",
       "      <td>-0.702326</td>\n",
       "      <td>-0.952288</td>\n",
       "      <td>-0.717547</td>\n",
       "      <td>-0.005326</td>\n",
       "      <td>1.026779</td>\n",
       "      <td>-0.160751</td>\n",
       "      <td>0.717547</td>\n",
       "      <td>-0.726593</td>\n",
       "      <td>-0.706293</td>\n",
       "      <td>-0.592021</td>\n",
       "    </tr>\n",
       "    <tr>\n",
       "      <th>3</th>\n",
       "      <td>0</td>\n",
       "      <td>0</td>\n",
       "      <td>1</td>\n",
       "      <td>1</td>\n",
       "      <td>1</td>\n",
       "      <td>1</td>\n",
       "      <td>-1.0</td>\n",
       "      <td>2.0</td>\n",
       "      <td>2.0</td>\n",
       "      <td>2.0</td>\n",
       "      <td>...</td>\n",
       "      <td>1.132406</td>\n",
       "      <td>1.358321</td>\n",
       "      <td>1.143407</td>\n",
       "      <td>-0.460233</td>\n",
       "      <td>-0.754886</td>\n",
       "      <td>-0.503887</td>\n",
       "      <td>-1.143407</td>\n",
       "      <td>1.313355</td>\n",
       "      <td>1.177210</td>\n",
       "      <td>0.701998</td>\n",
       "    </tr>\n",
       "    <tr>\n",
       "      <th>4</th>\n",
       "      <td>0</td>\n",
       "      <td>0</td>\n",
       "      <td>1</td>\n",
       "      <td>1</td>\n",
       "      <td>1</td>\n",
       "      <td>1</td>\n",
       "      <td>-1.0</td>\n",
       "      <td>-1.0</td>\n",
       "      <td>-1.0</td>\n",
       "      <td>-1.0</td>\n",
       "      <td>...</td>\n",
       "      <td>-0.416480</td>\n",
       "      <td>1.494382</td>\n",
       "      <td>-0.379260</td>\n",
       "      <td>-0.510947</td>\n",
       "      <td>-2.467059</td>\n",
       "      <td>-0.506512</td>\n",
       "      <td>0.379260</td>\n",
       "      <td>-0.136969</td>\n",
       "      <td>-0.379637</td>\n",
       "      <td>-0.694053</td>\n",
       "    </tr>\n",
       "  </tbody>\n",
       "</table>\n",
       "<p>5 rows × 92 columns</p>\n",
       "</div>"
      ],
      "text/plain": [
       "   Sex  IsSeniorCitizen  HasPartner  HasChild  HasPhoneService  \\\n",
       "0    1                0           1         0                1   \n",
       "1    1                1           1         0                1   \n",
       "2    1                0           0         0                1   \n",
       "3    0                0           1         1                1   \n",
       "4    0                0           1         1                1   \n",
       "\n",
       "   IsBillingPaperless  HelmertEncoder_HasMultiplePhoneNumbers_1  \\\n",
       "0                   1                                      -1.0   \n",
       "1                   0                                      -1.0   \n",
       "2                   0                                      -1.0   \n",
       "3                   1                                      -1.0   \n",
       "4                   1                                      -1.0   \n",
       "\n",
       "   HelmertEncoder_HasInternetService_1  \\\n",
       "0                                  2.0   \n",
       "1                                 -1.0   \n",
       "2                                 -1.0   \n",
       "3                                  2.0   \n",
       "4                                 -1.0   \n",
       "\n",
       "   HelmertEncoder_HasOnlineSecurityService_1  \\\n",
       "0                                        2.0   \n",
       "1                                       -1.0   \n",
       "2                                       -1.0   \n",
       "3                                        2.0   \n",
       "4                                       -1.0   \n",
       "\n",
       "   HelmertEncoder_HasOnlineBackup_1  ...  TotalSpent_-_ClientPeriod  \\\n",
       "0                              -1.0  ...                   0.039919   \n",
       "1                              -1.0  ...                   0.320229   \n",
       "2                              -1.0  ...                  -0.702326   \n",
       "3                               2.0  ...                   1.132406   \n",
       "4                              -1.0  ...                  -0.416480   \n",
       "\n",
       "   TotalSpent_/_MonthlySpending  TotalSpent_-_MonthlySpending  \\\n",
       "0                      0.412934                      0.048099   \n",
       "1                     -0.077085                      0.303692   \n",
       "2                     -0.952288                     -0.717547   \n",
       "3                      1.358321                      1.143407   \n",
       "4                      1.494382                     -0.379260   \n",
       "\n",
       "   MonthlySpending_/_ClientPeriod  MonthlySpending_-_ClientPeriod  \\\n",
       "0                       -0.445956                       -0.544931   \n",
       "1                       -0.318713                        1.093314   \n",
       "2                       -0.005326                        1.026779   \n",
       "3                       -0.460233                       -0.754886   \n",
       "4                       -0.510947                       -2.467059   \n",
       "\n",
       "   MonthlySpending_/_TotalSpent  MonthlySpending_-_TotalSpent  \\\n",
       "0                     -0.474249                     -0.048099   \n",
       "1                     -0.441112                     -0.303692   \n",
       "2                     -0.160751                      0.717547   \n",
       "3                     -0.503887                     -1.143407   \n",
       "4                     -0.506512                      0.379260   \n",
       "\n",
       "   ClientPeriod_*_TotalSpent  ClientPeriod_*_MonthlySpending  \\\n",
       "0                  -0.126858                        0.030023   \n",
       "1                  -0.210538                        0.250615   \n",
       "2                  -0.726593                       -0.706293   \n",
       "3                   1.313355                        1.177210   \n",
       "4                  -0.136969                       -0.379637   \n",
       "\n",
       "   TotalSpent_*_MonthlySpending  \n",
       "0                     -0.248890  \n",
       "1                      0.431665  \n",
       "2                     -0.592021  \n",
       "3                      0.701998  \n",
       "4                     -0.694053  \n",
       "\n",
       "[5 rows x 92 columns]"
      ]
     },
     "execution_count": 36,
     "metadata": {},
     "output_type": "execute_result"
    }
   ],
   "source": [
    "clean_X_test.head(5)"
   ]
  },
  {
   "cell_type": "code",
   "execution_count": 40,
   "metadata": {},
   "outputs": [
    {
     "name": "stdout",
     "output_type": "stream",
     "text": [
      "<class 'pandas.core.frame.DataFrame'>\n",
      "RangeIndex: 5282 entries, 0 to 5281\n",
      "Data columns (total 92 columns):\n",
      " #   Column                                     Non-Null Count  Dtype  \n",
      "---  ------                                     --------------  -----  \n",
      " 0   Sex                                        5282 non-null   int32  \n",
      " 1   IsSeniorCitizen                            5282 non-null   int64  \n",
      " 2   HasPartner                                 5282 non-null   int32  \n",
      " 3   HasChild                                   5282 non-null   int32  \n",
      " 4   HasPhoneService                            5282 non-null   int32  \n",
      " 5   IsBillingPaperless                         5282 non-null   int32  \n",
      " 6   HelmertEncoder_HasMultiplePhoneNumbers_1   5282 non-null   float64\n",
      " 7   HelmertEncoder_HasInternetService_1        5282 non-null   float64\n",
      " 8   HelmertEncoder_HasOnlineSecurityService_1  5282 non-null   float64\n",
      " 9   HelmertEncoder_HasOnlineBackup_1           5282 non-null   float64\n",
      " 10  HelmertEncoder_HasDeviceProtection_1       5282 non-null   float64\n",
      " 11  HelmertEncoder_HasTechSupportAccess_1      5282 non-null   float64\n",
      " 12  HelmertEncoder_HasOnlineTV_1               5282 non-null   float64\n",
      " 13  HelmertEncoder_HasMovieSubscription_1      5282 non-null   float64\n",
      " 14  HelmertEncoder_HasContractPhone_1          5282 non-null   float64\n",
      " 15  HelmertEncoder_PaymentMethod_2             5282 non-null   float64\n",
      " 16  OneHotEncoder_HasMultiplePhoneNumbers_1    5282 non-null   int64  \n",
      " 17  OneHotEncoder_HasMultiplePhoneNumbers_2    5282 non-null   int64  \n",
      " 18  OneHotEncoder_HasMultiplePhoneNumbers_3    5282 non-null   int64  \n",
      " 19  OneHotEncoder_HasInternetService_1         5282 non-null   int64  \n",
      " 20  OneHotEncoder_HasInternetService_2         5282 non-null   int64  \n",
      " 21  OneHotEncoder_HasInternetService_3         5282 non-null   int64  \n",
      " 22  OneHotEncoder_HasOnlineSecurityService_1   5282 non-null   int64  \n",
      " 23  OneHotEncoder_HasOnlineSecurityService_2   5282 non-null   int64  \n",
      " 24  OneHotEncoder_HasOnlineSecurityService_3   5282 non-null   int64  \n",
      " 25  OneHotEncoder_HasOnlineBackup_1            5282 non-null   int64  \n",
      " 26  OneHotEncoder_HasOnlineBackup_2            5282 non-null   int64  \n",
      " 27  OneHotEncoder_HasOnlineBackup_3            5282 non-null   int64  \n",
      " 28  OneHotEncoder_HasDeviceProtection_1        5282 non-null   int64  \n",
      " 29  OneHotEncoder_HasDeviceProtection_2        5282 non-null   int64  \n",
      " 30  OneHotEncoder_HasDeviceProtection_3        5282 non-null   int64  \n",
      " 31  OneHotEncoder_HasTechSupportAccess_1       5282 non-null   int64  \n",
      " 32  OneHotEncoder_HasTechSupportAccess_2       5282 non-null   int64  \n",
      " 33  OneHotEncoder_HasTechSupportAccess_3       5282 non-null   int64  \n",
      " 34  OneHotEncoder_HasOnlineTV_1                5282 non-null   int64  \n",
      " 35  OneHotEncoder_HasOnlineTV_2                5282 non-null   int64  \n",
      " 36  OneHotEncoder_HasOnlineTV_3                5282 non-null   int64  \n",
      " 37  OneHotEncoder_HasMovieSubscription_1       5282 non-null   int64  \n",
      " 38  OneHotEncoder_HasMovieSubscription_2       5282 non-null   int64  \n",
      " 39  OneHotEncoder_HasMovieSubscription_3       5282 non-null   int64  \n",
      " 40  OneHotEncoder_HasContractPhone_1           5282 non-null   int64  \n",
      " 41  OneHotEncoder_HasContractPhone_2           5282 non-null   int64  \n",
      " 42  OneHotEncoder_HasContractPhone_3           5282 non-null   int64  \n",
      " 43  OneHotEncoder_PaymentMethod_1              5282 non-null   int64  \n",
      " 44  OneHotEncoder_PaymentMethod_2              5282 non-null   int64  \n",
      " 45  OneHotEncoder_PaymentMethod_3              5282 non-null   int64  \n",
      " 46  OneHotEncoder_PaymentMethod_4              5282 non-null   int64  \n",
      " 47  ClientPeriod_Is_Outliers_IQR               5282 non-null   int64  \n",
      " 48  TotalSpent_Is_Outliers_IQR                 5282 non-null   int64  \n",
      " 49  MonthlySpending_Is_Outliers_IQR            5282 non-null   int64  \n",
      " 50  ClientPeriod                               5282 non-null   float64\n",
      " 51  MonthlySpending                            5282 non-null   float64\n",
      " 52  TotalSpent                                 5282 non-null   float64\n",
      " 53  HasMultiplePhoneNumbers                    5282 non-null   float64\n",
      " 54  HasInternetService                         5282 non-null   float64\n",
      " 55  HasOnlineSecurityService                   5282 non-null   float64\n",
      " 56  HasOnlineBackup                            5282 non-null   float64\n",
      " 57  HasDeviceProtection                        5282 non-null   float64\n",
      " 58  HasTechSupportAccess                       5282 non-null   float64\n",
      " 59  HasOnlineTV                                5282 non-null   float64\n",
      " 60  HasMovieSubscription                       5282 non-null   float64\n",
      " 61  HasContractPhone                           5282 non-null   float64\n",
      " 62  PaymentMethod                              5282 non-null   float64\n",
      " 63  HelmertEncoder_HasMultiplePhoneNumbers_0   5282 non-null   float64\n",
      " 64  HelmertEncoder_HasInternetService_0        5282 non-null   float64\n",
      " 65  HelmertEncoder_HasOnlineSecurityService_0  5282 non-null   float64\n",
      " 66  HelmertEncoder_HasOnlineBackup_0           5282 non-null   float64\n",
      " 67  HelmertEncoder_HasDeviceProtection_0       5282 non-null   float64\n",
      " 68  HelmertEncoder_HasTechSupportAccess_0      5282 non-null   float64\n",
      " 69  HelmertEncoder_HasOnlineTV_0               5282 non-null   float64\n",
      " 70  HelmertEncoder_HasMovieSubscription_0      5282 non-null   float64\n",
      " 71  HelmertEncoder_HasContractPhone_0          5282 non-null   float64\n",
      " 72  HelmertEncoder_PaymentMethod_0             5282 non-null   float64\n",
      " 73  HelmertEncoder_PaymentMethod_1             5282 non-null   float64\n",
      " 74  DenoisingAutoencoder_ClientPeriod          5282 non-null   float64\n",
      " 75  DenoisingAutoencoder_TotalSpent            5282 non-null   float64\n",
      " 76  DenoisingAutoencoder_MonthlySpending       5282 non-null   float64\n",
      " 77  ClientPeriod_/_TotalSpent                  5282 non-null   float64\n",
      " 78  ClientPeriod_-_TotalSpent                  5282 non-null   float64\n",
      " 79  ClientPeriod_/_MonthlySpending             5282 non-null   float64\n",
      " 80  ClientPeriod_-_MonthlySpending             5282 non-null   float64\n",
      " 81  TotalSpent_/_ClientPeriod                  5282 non-null   float64\n",
      " 82  TotalSpent_-_ClientPeriod                  5282 non-null   float64\n",
      " 83  TotalSpent_/_MonthlySpending               5282 non-null   float64\n",
      " 84  TotalSpent_-_MonthlySpending               5282 non-null   float64\n",
      " 85  MonthlySpending_/_ClientPeriod             5282 non-null   float64\n",
      " 86  MonthlySpending_-_ClientPeriod             5282 non-null   float64\n",
      " 87  MonthlySpending_/_TotalSpent               5282 non-null   float64\n",
      " 88  MonthlySpending_-_TotalSpent               5282 non-null   float64\n",
      " 89  ClientPeriod_*_TotalSpent                  5282 non-null   float64\n",
      " 90  ClientPeriod_*_MonthlySpending             5282 non-null   float64\n",
      " 91  TotalSpent_*_MonthlySpending               5282 non-null   float64\n",
      "dtypes: float64(52), int32(5), int64(35)\n",
      "memory usage: 3.6 MB\n"
     ]
    }
   ],
   "source": [
    "clean_X_train.info()"
   ]
  },
  {
   "cell_type": "code",
   "execution_count": 43,
   "metadata": {},
   "outputs": [],
   "source": [
    "from automl_alex import BestSingleModel, BestSingleModelClassifier"
   ]
  },
  {
   "cell_type": "code",
   "execution_count": 51,
   "metadata": {},
   "outputs": [
    {
     "name": "stderr",
     "output_type": "stream",
     "text": [
      "\u001b[32m12:53:27\u001b[0m | \u001b[1mmetric is None! Default metric will be used. classifier: AUC, regression: MSE\u001b[0m\n"
     ]
    }
   ],
   "source": [
    "model = BestSingleModelClassifier(\n",
    "    clean_and_encod_data=True,\n",
    "    opt_data_prepare=True,\n",
    "    models_names = ['LightGBM', 'ExtraTrees', 'RandomForest',],\n",
    "    cat_encoder_names= [\n",
    "            \"HelmertEncoder\",\n",
    "            \"OneHotEncoder\",\n",
    "            \"CountEncoder\",\n",
    "            \"HashingEncoder\",\n",
    "            \"BackwardDifferenceEncoder\",\n",
    "        ],\n",
    "    target_encoders_names= [\n",
    "            \"TargetEncoder\",\n",
    "            \"JamesSteinEncoder\",\n",
    "            \"CatBoostEncoder\",\n",
    "        ],\n",
    "    clean_outliers = [True, False],\n",
    "    num_generator_select_operations = True,\n",
    "    num_generator_operations = [\"/\", \"*\", \"-\"],\n",
    "    auto_parameters=True,\n",
    "    feature_selection=False,\n",
    "    random_state=42)"
   ]
  },
  {
   "cell_type": "code",
   "execution_count": 52,
   "metadata": {},
   "outputs": [
    {
     "name": "stderr",
     "output_type": "stream",
     "text": [
      "\u001b[32m12:53:29\u001b[0m | \u001b[1m##################################################\u001b[0m\n",
      "\u001b[32m12:53:30\u001b[0m | \u001b[1m> Step 1: calc parameters and pruned score: get test 10 trials\u001b[0m\n",
      "\u001b[32m12:54:22\u001b[0m | \u001b[1m One iteration ~ 5.2 sec\u001b[0m\n",
      "\u001b[32m12:54:22\u001b[0m | \u001b[1m Possible iters ~ 387.0\u001b[0m\n",
      "\u001b[32m12:54:22\u001b[0m | \u001b[1m--------------------------------------------------\u001b[0m\n",
      "\u001b[32m12:54:22\u001b[0m | \u001b[1m  Pruned Threshold Score: 0.8215\u001b[0m\n",
      "\u001b[32m12:54:22\u001b[0m | \u001b[1m##################################################\u001b[0m\n",
      "\u001b[32m12:54:22\u001b[0m | \u001b[1m> Step 2: Full opt with Threshold Score Pruner\u001b[0m\n",
      "\u001b[32m12:54:22\u001b[0m | \u001b[1m##################################################\u001b[0m\n",
      "\u001b[32m12:54:22\u001b[0m | \u001b[1m> Start optimization with the parameters:\u001b[0m\n",
      "\u001b[32m12:54:22\u001b[0m | \u001b[1mCV_Folds = 7\u001b[0m\n",
      "\u001b[32m12:54:22\u001b[0m | \u001b[1mScore_CV_Folds = 3\u001b[0m\n",
      "\u001b[32m12:54:22\u001b[0m | \u001b[1mFeature_Selection = False\u001b[0m\n",
      "\u001b[32m12:54:22\u001b[0m | \u001b[1mOpt_lvl = 2\u001b[0m\n",
      "\u001b[32m12:54:22\u001b[0m | \u001b[1mCold_start = 20\u001b[0m\n",
      "\u001b[32m12:54:22\u001b[0m | \u001b[1mEarly_stoping = 30\u001b[0m\n",
      "\u001b[32m12:54:22\u001b[0m | \u001b[1mMetric = roc_auc_score\u001b[0m\n",
      "\u001b[32m12:54:22\u001b[0m | \u001b[1mDirection = maximize\u001b[0m\n",
      "\u001b[32m12:54:22\u001b[0m | \u001b[1m##################################################\u001b[0m\n",
      "Optimize: : 196it [16:54,  5.18s/it, | Model: LightGBM | OptScore: 0.8432 | Best roc_auc_score: 0.8439 ]    \n",
      "\u001b[32m13:11:17\u001b[0m | \u001b[1m\n",
      " EarlyStopping Exceeded: Best Score: 0.8439 roc_auc_score\u001b[0m\n",
      "\u001b[32m13:11:17\u001b[0m | \u001b[1m> Finish Opt!\u001b[0m\n"
     ]
    },
    {
     "name": "stdout",
     "output_type": "stream",
     "text": [
      "Finished loading model, total used 500 iterations\n",
      "Finished loading model, total used 500 iterations\n",
      "Finished loading model, total used 500 iterations\n",
      "Finished loading model, total used 500 iterations\n",
      "Finished loading model, total used 500 iterations\n",
      "Finished loading model, total used 500 iterations\n"
     ]
    },
    {
     "name": "stderr",
     "output_type": "stream",
     "text": [
      "\u001b[32m13:11:24\u001b[0m | \u001b[1mBest Score: 0.8439 roc_auc_score\u001b[0m\n"
     ]
    },
    {
     "name": "stdout",
     "output_type": "stream",
     "text": [
      "Finished loading model, total used 500 iterations\n"
     ]
    }
   ],
   "source": [
    "history = model.opt(X_train, y_train, timeout=2000, verbose=3)"
   ]
  },
  {
   "cell_type": "code",
   "execution_count": 47,
   "metadata": {},
   "outputs": [
    {
     "name": "stderr",
     "output_type": "stream",
     "text": [
      "\u001b[32m12:50:28\u001b[0m | \u001b[1mSource data shape: (1761, 19)\u001b[0m\n",
      "\u001b[32m12:50:28\u001b[0m | \u001b[1m##################################################\u001b[0m\n",
      "\u001b[32m12:50:28\u001b[0m | \u001b[1m! START preprocessing Data\u001b[0m\n",
      "\u001b[32m12:50:28\u001b[0m | \u001b[1m> Binary Features\u001b[0m\n",
      "\u001b[32m12:50:28\u001b[0m | \u001b[1m> Clean Categorical Features\u001b[0m\n",
      "\u001b[32m12:50:29\u001b[0m | \u001b[1m> Transform Categorical Features.\u001b[0m\n",
      "\u001b[32m12:50:29\u001b[0m | \u001b[1m - Encoder: HelmertEncoder ADD features: 21\u001b[0m\n",
      "\u001b[32m12:50:29\u001b[0m | \u001b[1m - Encoder: OneHotEncoder ADD features: 31\u001b[0m\n",
      "\u001b[32m12:50:29\u001b[0m | \u001b[1m  No nans features\u001b[0m\n",
      "\u001b[32m12:50:29\u001b[0m | \u001b[1m> Start fit DenoisingAutoencoder\u001b[0m\n"
     ]
    },
    {
     "name": "stdout",
     "output_type": "stream",
     "text": [
      "Epoch 1/50\n",
      "Epoch 2/50\n",
      "Epoch 3/50\n",
      "Epoch 4/50\n",
      "Epoch 5/50\n",
      "Epoch 6/50\n",
      "Epoch 7/50\n",
      "Epoch 8/50\n",
      "Epoch 9/50\n",
      "Epoch 10/50\n",
      "Epoch 11/50\n",
      "Epoch 12/50\n",
      "Epoch 13/50\n",
      "Epoch 14/50\n",
      "Epoch 15/50\n",
      "Epoch 16/50\n",
      "Epoch 17/50\n",
      "Epoch 18/50\n",
      "Epoch 19/50\n",
      "Epoch 20/50\n",
      "Epoch 21/50\n",
      "Epoch 22/50\n",
      "Epoch 23/50\n",
      "Epoch 24/50\n",
      "Epoch 25/50\n",
      "Epoch 26/50\n",
      "Epoch 27/50\n",
      "Epoch 28/50\n",
      "Epoch 29/50\n",
      "Epoch 30/50\n",
      "Epoch 31/50\n",
      "Epoch 32/50\n",
      "Epoch 33/50\n",
      "Epoch 34/50\n",
      "Epoch 35/50\n",
      "Epoch 36/50\n",
      "Epoch 37/50\n",
      "Epoch 38/50\n",
      "Epoch 39/50\n",
      "Epoch 40/50\n",
      "Epoch 41/50\n",
      "Epoch 42/50\n",
      "Epoch 43/50\n",
      "Epoch 44/50\n",
      "Epoch 45/50\n",
      "Epoch 46/50\n",
      "Epoch 47/50\n",
      "Epoch 48/50\n",
      "Epoch 49/50\n",
      "Epoch 50/50\n"
     ]
    },
    {
     "name": "stderr",
     "output_type": "stream",
     "text": [
      "\u001b[32m12:50:42\u001b[0m | \u001b[1m> Add Denoising features\u001b[0m\n",
      "\u001b[32m12:50:42\u001b[0m | \u001b[1m> CleanOutliers\u001b[0m\n",
      "\u001b[32m12:50:42\u001b[0m | \u001b[1m> Generate interaction Num Features\u001b[0m\n",
      "\u001b[32m12:50:42\u001b[0m | \u001b[1m ADD features: 15\u001b[0m\n",
      "\u001b[32m12:50:42\u001b[0m | \u001b[1m> Normalization Features\u001b[0m\n",
      "\u001b[32m12:50:43\u001b[0m | \u001b[1m##################################################\u001b[0m\n",
      "\u001b[32m12:50:43\u001b[0m | \u001b[1mFinal data shape: (1761, 92)\u001b[0m\n",
      "\u001b[32m12:50:43\u001b[0m | \u001b[1mTotal ADD columns: 73\u001b[0m\n",
      "\u001b[32m12:50:43\u001b[0m | \u001b[1mTime fit data_preproc: 14.61 sec\u001b[0m\n",
      "\u001b[32m12:50:43\u001b[0m | \u001b[1m##################################################\u001b[0m\n"
     ]
    }
   ],
   "source": [
    "clean_X_test = de.fit_transform(X_test)"
   ]
  },
  {
   "cell_type": "code",
   "execution_count": 53,
   "metadata": {},
   "outputs": [
    {
     "name": "stdout",
     "output_type": "stream",
     "text": [
      "LightGBM\n",
      "{'random_seed': 42, 'num_iterations': 500, 'verbose': -1, 'device_type': 'cpu', 'objective': 'binary', 'num_leaves': 2, 'learning_rate': 0.05327604416583107, 'min_child_samples': 2, 'bagging_fraction': 0.8, 'feature_fraction': 0.8, 'bagging_freq': 11}\n"
     ]
    }
   ],
   "source": [
    "print(model.best_model_name)\n",
    "print(model.best_model_param)"
   ]
  },
  {
   "cell_type": "code",
   "execution_count": 54,
   "metadata": {},
   "outputs": [
    {
     "data": {
      "text/plain": [
       "{'*': False,\n",
       " '-': False,\n",
       " '/': True,\n",
       " 'BackwardDifferenceEncoder': True,\n",
       " 'CatBoostEncoder': True,\n",
       " 'CountEncoder': True,\n",
       " 'HashingEncoder': True,\n",
       " 'HelmertEncoder': True,\n",
       " 'JamesSteinEncoder': False,\n",
       " 'OneHotEncoder': False,\n",
       " 'TargetEncoder': False,\n",
       " 'de_clean_outliers': False,\n",
       " 'lgbm_bagging_fraction': 0.8,\n",
       " 'lgbm_bagging_freq': 11,\n",
       " 'lgbm_feature_fraction': 0.8,\n",
       " 'lgbm_learning_rate': 0.05327604416583107,\n",
       " 'lgbm_min_child_samples': 2,\n",
       " 'lgbm_num_iterations': 500,\n",
       " 'lgbm_num_leaves': 2,\n",
       " 'model_name': 'LightGBM'}"
      ]
     },
     "execution_count": 54,
     "metadata": {},
     "output_type": "execute_result"
    }
   ],
   "source": [
    "model.study.best_params"
   ]
  },
  {
   "cell_type": "code",
   "execution_count": 61,
   "metadata": {},
   "outputs": [
    {
     "ename": "ValueError",
     "evalue": "columns overlap but no suffix specified: Index(['HelmertEncoder_HasMultiplePhoneNumbers_1',\n       'HelmertEncoder_HasInternetService_1',\n       'HelmertEncoder_HasOnlineSecurityService_1',\n       'HelmertEncoder_HasOnlineBackup_1',\n       'HelmertEncoder_HasDeviceProtection_1',\n       'HelmertEncoder_HasTechSupportAccess_1', 'HelmertEncoder_HasOnlineTV_1',\n       'HelmertEncoder_HasMovieSubscription_1',\n       'HelmertEncoder_HasContractPhone_1', 'HelmertEncoder_PaymentMethod_2',\n       'HelmertEncoder_HasMultiplePhoneNumbers_0',\n       'HelmertEncoder_HasInternetService_0',\n       'HelmertEncoder_HasOnlineSecurityService_0',\n       'HelmertEncoder_HasOnlineBackup_0',\n       'HelmertEncoder_HasDeviceProtection_0',\n       'HelmertEncoder_HasTechSupportAccess_0', 'HelmertEncoder_HasOnlineTV_0',\n       'HelmertEncoder_HasMovieSubscription_0',\n       'HelmertEncoder_HasContractPhone_0', 'HelmertEncoder_PaymentMethod_0',\n       'HelmertEncoder_PaymentMethod_1'],\n      dtype='object')",
     "output_type": "error",
     "traceback": [
      "\u001b[1;31m---------------------------------------------------------------------------\u001b[0m",
      "\u001b[1;31mValueError\u001b[0m                                Traceback (most recent call last)",
      "\u001b[1;32m<ipython-input-61-eed30e46b195>\u001b[0m in \u001b[0;36m<module>\u001b[1;34m\u001b[0m\n\u001b[1;32m----> 1\u001b[1;33m \u001b[0mpredicts\u001b[0m \u001b[1;33m=\u001b[0m \u001b[0mmodel\u001b[0m\u001b[1;33m.\u001b[0m\u001b[0mpredict\u001b[0m\u001b[1;33m(\u001b[0m\u001b[0mclean_X_test\u001b[0m\u001b[1;33m)\u001b[0m\u001b[1;33m\u001b[0m\u001b[1;33m\u001b[0m\u001b[0m\n\u001b[0m\u001b[0;32m      2\u001b[0m \u001b[0mpredicts\u001b[0m\u001b[1;33m\u001b[0m\u001b[1;33m\u001b[0m\u001b[0m\n",
      "\u001b[1;32mC:\\ProgramData\\Anaconda3\\lib\\site-packages\\automl_alex\\optimizer.py\u001b[0m in \u001b[0;36mpredict\u001b[1;34m(self, X)\u001b[0m\n\u001b[0;32m    704\u001b[0m \u001b[1;33m\u001b[0m\u001b[0m\n\u001b[0;32m    705\u001b[0m     \u001b[1;32mdef\u001b[0m \u001b[0mpredict\u001b[0m\u001b[1;33m(\u001b[0m\u001b[0mself\u001b[0m\u001b[1;33m,\u001b[0m \u001b[0mX\u001b[0m\u001b[1;33m)\u001b[0m\u001b[1;33m:\u001b[0m\u001b[1;33m\u001b[0m\u001b[1;33m\u001b[0m\u001b[0m\n\u001b[1;32m--> 706\u001b[1;33m         \u001b[1;32mreturn\u001b[0m \u001b[0mself\u001b[0m\u001b[1;33m.\u001b[0m\u001b[0mpredict_test\u001b[0m\u001b[1;33m(\u001b[0m\u001b[0mX\u001b[0m\u001b[1;33m)\u001b[0m\u001b[1;33m\u001b[0m\u001b[1;33m\u001b[0m\u001b[0m\n\u001b[0m\u001b[0;32m    707\u001b[0m \u001b[1;33m\u001b[0m\u001b[0m\n\u001b[0;32m    708\u001b[0m     \u001b[1;32mdef\u001b[0m \u001b[0mpredict_train\u001b[0m\u001b[1;33m(\u001b[0m\u001b[0mself\u001b[0m\u001b[1;33m,\u001b[0m \u001b[0mX\u001b[0m\u001b[1;33m)\u001b[0m\u001b[1;33m:\u001b[0m\u001b[1;33m\u001b[0m\u001b[1;33m\u001b[0m\u001b[0m\n",
      "\u001b[1;32mC:\\ProgramData\\Anaconda3\\lib\\site-packages\\automl_alex\\optimizer.py\u001b[0m in \u001b[0;36mpredict_test\u001b[1;34m(self, X)\u001b[0m\n\u001b[0;32m    695\u001b[0m \u001b[1;33m\u001b[0m\u001b[0m\n\u001b[0;32m    696\u001b[0m         \u001b[1;32mif\u001b[0m \u001b[0mself\u001b[0m\u001b[1;33m.\u001b[0m\u001b[0m_clean_and_encod_data\u001b[0m\u001b[1;33m:\u001b[0m\u001b[1;33m\u001b[0m\u001b[1;33m\u001b[0m\u001b[0m\n\u001b[1;32m--> 697\u001b[1;33m             \u001b[0mX\u001b[0m \u001b[1;33m=\u001b[0m \u001b[0mself\u001b[0m\u001b[1;33m.\u001b[0m\u001b[0mde\u001b[0m\u001b[1;33m.\u001b[0m\u001b[0mtransform\u001b[0m\u001b[1;33m(\u001b[0m\u001b[0mX\u001b[0m\u001b[1;33m)\u001b[0m\u001b[1;33m\u001b[0m\u001b[1;33m\u001b[0m\u001b[0m\n\u001b[0m\u001b[0;32m    698\u001b[0m \u001b[1;33m\u001b[0m\u001b[0m\n\u001b[0;32m    699\u001b[0m         \u001b[1;32mif\u001b[0m \u001b[0mself\u001b[0m\u001b[1;33m.\u001b[0m\u001b[0mfeature_selection\u001b[0m\u001b[1;33m:\u001b[0m\u001b[1;33m\u001b[0m\u001b[1;33m\u001b[0m\u001b[0m\n",
      "\u001b[1;32mC:\\ProgramData\\Anaconda3\\lib\\site-packages\\automl_alex\\data_prepare.py\u001b[0m in \u001b[0;36mtransform\u001b[1;34m(self, data, verbose)\u001b[0m\n\u001b[0;32m   1181\u001b[0m                         \u001b[1;34mf\" - Encoder: {cat_encoder_name} ADD features: {len(data_encodet.columns)}\"\u001b[0m\u001b[1;33m\u001b[0m\u001b[1;33m\u001b[0m\u001b[0m\n\u001b[0;32m   1182\u001b[0m                     )\n\u001b[1;32m-> 1183\u001b[1;33m                 \u001b[0mdata\u001b[0m \u001b[1;33m=\u001b[0m \u001b[0mdata\u001b[0m\u001b[1;33m.\u001b[0m\u001b[0mjoin\u001b[0m\u001b[1;33m(\u001b[0m\u001b[0mdata_encodet\u001b[0m\u001b[1;33m.\u001b[0m\u001b[0mreset_index\u001b[0m\u001b[1;33m(\u001b[0m\u001b[0mdrop\u001b[0m\u001b[1;33m=\u001b[0m\u001b[1;32mTrue\u001b[0m\u001b[1;33m)\u001b[0m\u001b[1;33m)\u001b[0m\u001b[1;33m\u001b[0m\u001b[1;33m\u001b[0m\u001b[0m\n\u001b[0m\u001b[0;32m   1184\u001b[0m \u001b[1;33m\u001b[0m\u001b[0m\n\u001b[0;32m   1185\u001b[0m         \u001b[1;31m########### Numerical Features ######################\u001b[0m\u001b[1;33m\u001b[0m\u001b[1;33m\u001b[0m\u001b[1;33m\u001b[0m\u001b[0m\n",
      "\u001b[1;32mC:\\ProgramData\\Anaconda3\\lib\\site-packages\\pandas\\core\\frame.py\u001b[0m in \u001b[0;36mjoin\u001b[1;34m(self, other, on, how, lsuffix, rsuffix, sort)\u001b[0m\n\u001b[0;32m   7206\u001b[0m         \u001b[1;36m5\u001b[0m  \u001b[0mK5\u001b[0m  \u001b[0mA5\u001b[0m  \u001b[0mNaN\u001b[0m\u001b[1;33m\u001b[0m\u001b[1;33m\u001b[0m\u001b[0m\n\u001b[0;32m   7207\u001b[0m         \"\"\"\n\u001b[1;32m-> 7208\u001b[1;33m         return self._join_compat(\n\u001b[0m\u001b[0;32m   7209\u001b[0m             \u001b[0mother\u001b[0m\u001b[1;33m,\u001b[0m \u001b[0mon\u001b[0m\u001b[1;33m=\u001b[0m\u001b[0mon\u001b[0m\u001b[1;33m,\u001b[0m \u001b[0mhow\u001b[0m\u001b[1;33m=\u001b[0m\u001b[0mhow\u001b[0m\u001b[1;33m,\u001b[0m \u001b[0mlsuffix\u001b[0m\u001b[1;33m=\u001b[0m\u001b[0mlsuffix\u001b[0m\u001b[1;33m,\u001b[0m \u001b[0mrsuffix\u001b[0m\u001b[1;33m=\u001b[0m\u001b[0mrsuffix\u001b[0m\u001b[1;33m,\u001b[0m \u001b[0msort\u001b[0m\u001b[1;33m=\u001b[0m\u001b[0msort\u001b[0m\u001b[1;33m\u001b[0m\u001b[1;33m\u001b[0m\u001b[0m\n\u001b[0;32m   7210\u001b[0m         )\n",
      "\u001b[1;32mC:\\ProgramData\\Anaconda3\\lib\\site-packages\\pandas\\core\\frame.py\u001b[0m in \u001b[0;36m_join_compat\u001b[1;34m(self, other, on, how, lsuffix, rsuffix, sort)\u001b[0m\n\u001b[0;32m   7222\u001b[0m \u001b[1;33m\u001b[0m\u001b[0m\n\u001b[0;32m   7223\u001b[0m         \u001b[1;32mif\u001b[0m \u001b[0misinstance\u001b[0m\u001b[1;33m(\u001b[0m\u001b[0mother\u001b[0m\u001b[1;33m,\u001b[0m \u001b[0mDataFrame\u001b[0m\u001b[1;33m)\u001b[0m\u001b[1;33m:\u001b[0m\u001b[1;33m\u001b[0m\u001b[1;33m\u001b[0m\u001b[0m\n\u001b[1;32m-> 7224\u001b[1;33m             return merge(\n\u001b[0m\u001b[0;32m   7225\u001b[0m                 \u001b[0mself\u001b[0m\u001b[1;33m,\u001b[0m\u001b[1;33m\u001b[0m\u001b[1;33m\u001b[0m\u001b[0m\n\u001b[0;32m   7226\u001b[0m                 \u001b[0mother\u001b[0m\u001b[1;33m,\u001b[0m\u001b[1;33m\u001b[0m\u001b[1;33m\u001b[0m\u001b[0m\n",
      "\u001b[1;32mC:\\ProgramData\\Anaconda3\\lib\\site-packages\\pandas\\core\\reshape\\merge.py\u001b[0m in \u001b[0;36mmerge\u001b[1;34m(left, right, how, on, left_on, right_on, left_index, right_index, sort, suffixes, copy, indicator, validate)\u001b[0m\n\u001b[0;32m     86\u001b[0m         \u001b[0mvalidate\u001b[0m\u001b[1;33m=\u001b[0m\u001b[0mvalidate\u001b[0m\u001b[1;33m,\u001b[0m\u001b[1;33m\u001b[0m\u001b[1;33m\u001b[0m\u001b[0m\n\u001b[0;32m     87\u001b[0m     )\n\u001b[1;32m---> 88\u001b[1;33m     \u001b[1;32mreturn\u001b[0m \u001b[0mop\u001b[0m\u001b[1;33m.\u001b[0m\u001b[0mget_result\u001b[0m\u001b[1;33m(\u001b[0m\u001b[1;33m)\u001b[0m\u001b[1;33m\u001b[0m\u001b[1;33m\u001b[0m\u001b[0m\n\u001b[0m\u001b[0;32m     89\u001b[0m \u001b[1;33m\u001b[0m\u001b[0m\n\u001b[0;32m     90\u001b[0m \u001b[1;33m\u001b[0m\u001b[0m\n",
      "\u001b[1;32mC:\\ProgramData\\Anaconda3\\lib\\site-packages\\pandas\\core\\reshape\\merge.py\u001b[0m in \u001b[0;36mget_result\u001b[1;34m(self)\u001b[0m\n\u001b[0;32m    646\u001b[0m         \u001b[0mlsuf\u001b[0m\u001b[1;33m,\u001b[0m \u001b[0mrsuf\u001b[0m \u001b[1;33m=\u001b[0m \u001b[0mself\u001b[0m\u001b[1;33m.\u001b[0m\u001b[0msuffixes\u001b[0m\u001b[1;33m\u001b[0m\u001b[1;33m\u001b[0m\u001b[0m\n\u001b[0;32m    647\u001b[0m \u001b[1;33m\u001b[0m\u001b[0m\n\u001b[1;32m--> 648\u001b[1;33m         llabels, rlabels = _items_overlap_with_suffix(\n\u001b[0m\u001b[0;32m    649\u001b[0m             \u001b[0mldata\u001b[0m\u001b[1;33m.\u001b[0m\u001b[0mitems\u001b[0m\u001b[1;33m,\u001b[0m \u001b[0mlsuf\u001b[0m\u001b[1;33m,\u001b[0m \u001b[0mrdata\u001b[0m\u001b[1;33m.\u001b[0m\u001b[0mitems\u001b[0m\u001b[1;33m,\u001b[0m \u001b[0mrsuf\u001b[0m\u001b[1;33m\u001b[0m\u001b[1;33m\u001b[0m\u001b[0m\n\u001b[0;32m    650\u001b[0m         )\n",
      "\u001b[1;32mC:\\ProgramData\\Anaconda3\\lib\\site-packages\\pandas\\core\\reshape\\merge.py\u001b[0m in \u001b[0;36m_items_overlap_with_suffix\u001b[1;34m(left, lsuffix, right, rsuffix)\u001b[0m\n\u001b[0;32m   2022\u001b[0m \u001b[1;33m\u001b[0m\u001b[0m\n\u001b[0;32m   2023\u001b[0m     \u001b[1;32mif\u001b[0m \u001b[1;32mnot\u001b[0m \u001b[0mlsuffix\u001b[0m \u001b[1;32mand\u001b[0m \u001b[1;32mnot\u001b[0m \u001b[0mrsuffix\u001b[0m\u001b[1;33m:\u001b[0m\u001b[1;33m\u001b[0m\u001b[1;33m\u001b[0m\u001b[0m\n\u001b[1;32m-> 2024\u001b[1;33m         raise ValueError(\n\u001b[0m\u001b[0;32m   2025\u001b[0m             \u001b[1;34m\"columns overlap but no suffix specified: \"\u001b[0m\u001b[1;33m\u001b[0m\u001b[1;33m\u001b[0m\u001b[0m\n\u001b[0;32m   2026\u001b[0m             \u001b[1;34m\"{rename}\"\u001b[0m\u001b[1;33m.\u001b[0m\u001b[0mformat\u001b[0m\u001b[1;33m(\u001b[0m\u001b[0mrename\u001b[0m\u001b[1;33m=\u001b[0m\u001b[0mto_rename\u001b[0m\u001b[1;33m)\u001b[0m\u001b[1;33m\u001b[0m\u001b[1;33m\u001b[0m\u001b[0m\n",
      "\u001b[1;31mValueError\u001b[0m: columns overlap but no suffix specified: Index(['HelmertEncoder_HasMultiplePhoneNumbers_1',\n       'HelmertEncoder_HasInternetService_1',\n       'HelmertEncoder_HasOnlineSecurityService_1',\n       'HelmertEncoder_HasOnlineBackup_1',\n       'HelmertEncoder_HasDeviceProtection_1',\n       'HelmertEncoder_HasTechSupportAccess_1', 'HelmertEncoder_HasOnlineTV_1',\n       'HelmertEncoder_HasMovieSubscription_1',\n       'HelmertEncoder_HasContractPhone_1', 'HelmertEncoder_PaymentMethod_2',\n       'HelmertEncoder_HasMultiplePhoneNumbers_0',\n       'HelmertEncoder_HasInternetService_0',\n       'HelmertEncoder_HasOnlineSecurityService_0',\n       'HelmertEncoder_HasOnlineBackup_0',\n       'HelmertEncoder_HasDeviceProtection_0',\n       'HelmertEncoder_HasTechSupportAccess_0', 'HelmertEncoder_HasOnlineTV_0',\n       'HelmertEncoder_HasMovieSubscription_0',\n       'HelmertEncoder_HasContractPhone_0', 'HelmertEncoder_PaymentMethod_0',\n       'HelmertEncoder_PaymentMethod_1'],\n      dtype='object')"
     ]
    }
   ],
   "source": [
    "predicts = model.predict(clean_X_test)\n",
    "predicts"
   ]
  },
  {
   "cell_type": "markdown",
   "metadata": {},
   "source": [
    "### Самый простой вариант, с ручным разделение на train/val"
   ]
  },
  {
   "cell_type": "code",
   "execution_count": 9,
   "metadata": {},
   "outputs": [],
   "source": [
    "# Разделим на train|val\n",
    "data_train, data_val, target_train, target_val = train_test_split(data[feature_cols], data[target_col], \n",
    "                                                    train_size=0.8,\n",
    "                                                    random_state=42)"
   ]
  },
  {
   "cell_type": "code",
   "execution_count": null,
   "metadata": {},
   "outputs": [],
   "source": [
    "# Проведем one-hot кодирование\n",
    "def data_encoding(data):\n",
    "    dummy_features = pd.get_dummies(data[cat_cols], drop_first=True)\n",
    "    data = pd.concat([data[num_cols], dummy_features], axis=1)\n",
    "    return data"
   ]
  },
  {
   "cell_type": "code",
   "execution_count": null,
   "metadata": {},
   "outputs": [],
   "source": [
    "data_train = data_encoding(data_train)"
   ]
  },
  {
   "cell_type": "code",
   "execution_count": null,
   "metadata": {},
   "outputs": [],
   "source": [
    "data_train.head()"
   ]
  },
  {
   "cell_type": "code",
   "execution_count": null,
   "metadata": {},
   "outputs": [],
   "source": [
    "data_val = data_encoding(data_val)"
   ]
  },
  {
   "cell_type": "code",
   "execution_count": null,
   "metadata": {},
   "outputs": [],
   "source": [
    "# Сделаем нормировку в Pandas с сохранением среднего и стандартного отклонения для использования в будущем для теста\n",
    "scaling_dict = {}\n",
    "for column in num_cols:\n",
    "    mean = data_train[column].mean()\n",
    "    dev = data_train[column].std()\n",
    "    scaling_dict[column + '_mean'] = mean\n",
    "    scaling_dict[column + '_dev'] = dev\n",
    "    data_train[column] = (data_train[column] - mean)/dev"
   ]
  },
  {
   "cell_type": "code",
   "execution_count": null,
   "metadata": {},
   "outputs": [],
   "source": [
    "# Теперь нормировку применим к валидационной выборке\n",
    "for column in num_cols:\n",
    "    data_val[column] = (data_val[column] - scaling_dict[column + '_mean'])/scaling_dict[column + '_dev']"
   ]
  },
  {
   "cell_type": "code",
   "execution_count": null,
   "metadata": {},
   "outputs": [],
   "source": [
    "data_val.head()"
   ]
  },
  {
   "cell_type": "markdown",
   "metadata": {},
   "source": [
    "### Логистическая регрессия с ручным подбором параметров\n"
   ]
  },
  {
   "cell_type": "code",
   "execution_count": null,
   "metadata": {},
   "outputs": [],
   "source": [
    "model_log_reg = LogisticRegressionCV(\n",
    "    scoring=\"roc_auc\", refit=True, random_state=0, max_iter=500\n",
    ").fit(data_train, target_train)"
   ]
  },
  {
   "cell_type": "code",
   "execution_count": null,
   "metadata": {},
   "outputs": [],
   "source": [
    "model_log_reg.score(data_train, target_train)"
   ]
  },
  {
   "cell_type": "code",
   "execution_count": null,
   "metadata": {},
   "outputs": [],
   "source": [
    "# а что на валидационном сете?\n",
    "model_log_reg.score(data_val, target_val)"
   ]
  },
  {
   "cell_type": "code",
   "execution_count": null,
   "metadata": {},
   "outputs": [],
   "source": [
    "model_log_reg.predict(data_val)"
   ]
  },
  {
   "cell_type": "code",
   "execution_count": null,
   "metadata": {},
   "outputs": [],
   "source": [
    "model_log_reg.get_params()"
   ]
  },
  {
   "cell_type": "code",
   "execution_count": null,
   "metadata": {},
   "outputs": [],
   "source": [
    "# добавим еще информацию об неоднородности классов\n",
    "class_weight_0 = 1 - target_train.mean()\n",
    "class_weight_0"
   ]
  },
  {
   "cell_type": "code",
   "execution_count": null,
   "metadata": {},
   "outputs": [],
   "source": [
    "# попробую еще L1 вместо L2\n",
    "model_log_reg = LogisticRegressionCV(\n",
    "    scoring=\"roc_auc\",\n",
    "    refit=True,\n",
    "    random_state=0,\n",
    "    max_iter=1000,\n",
    "    penalty=\"l1\",\n",
    "    solver=\"saga\",\n",
    "    class_weight={0: class_weight_0, 1: 1 - class_weight_0},\n",
    ").fit(data_train, target_train)"
   ]
  },
  {
   "cell_type": "code",
   "execution_count": null,
   "metadata": {},
   "outputs": [],
   "source": [
    "model_log_reg.score(data_val, target_val)"
   ]
  },
  {
   "cell_type": "code",
   "execution_count": null,
   "metadata": {},
   "outputs": [],
   "source": [
    "# снова L2 но с классами\n",
    "model_log_reg = LogisticRegressionCV(\n",
    "    scoring=\"roc_auc\",\n",
    "    refit=True,\n",
    "    random_state=0,\n",
    "    max_iter=1000,\n",
    "    class_weight={0: class_weight_0, 1: 1 - class_weight_0},\n",
    ").fit(data_train, target_train)\n",
    "model_log_reg.score(data_val, target_val)"
   ]
  },
  {
   "cell_type": "code",
   "execution_count": null,
   "metadata": {},
   "outputs": [],
   "source": [
    "model_log_reg.get_params()"
   ]
  },
  {
   "cell_type": "markdown",
   "metadata": {},
   "source": [
    "ОК, обучаем на полном датасете с лучшими параметрами, L2 и классами"
   ]
  },
  {
   "cell_type": "code",
   "execution_count": null,
   "metadata": {},
   "outputs": [],
   "source": [
    "data_train = data_encoding(data[feature_cols])\n",
    "scaling_dict = {}\n",
    "for column in num_cols:\n",
    "    mean = data_train[column].mean()\n",
    "    dev = data_train[column].std()\n",
    "    scaling_dict[column + '_mean'] = mean\n",
    "    scaling_dict[column + '_dev'] = dev\n",
    "    data_train[column] = (data_train[column] - mean)/dev"
   ]
  },
  {
   "cell_type": "code",
   "execution_count": null,
   "metadata": {},
   "outputs": [],
   "source": [
    "model_log_reg = LogisticRegressionCV(\n",
    "    Cs=[10],\n",
    "    scoring=\"roc_auc\",\n",
    "    refit=True,\n",
    "    random_state=0,\n",
    "    max_iter=1000,\n",
    "    class_weight={0: class_weight_0, 1: 1 - class_weight_0},\n",
    ").fit(data_train, data[target_col])\n",
    "model_log_reg.score(data_train, data[target_col])"
   ]
  },
  {
   "cell_type": "markdown",
   "metadata": {},
   "source": [
    "#### Результат на Kaggle 0.84568"
   ]
  },
  {
   "cell_type": "markdown",
   "metadata": {},
   "source": [
    "### Теперь логистическую регрессию, но средствами sklearn полностью с разным кодированием"
   ]
  },
  {
   "cell_type": "code",
   "execution_count": null,
   "metadata": {},
   "outputs": [],
   "source": [
    "data_train, data_val, target_train, target_val = train_test_split(data[feature_cols], data[target_col], \n",
    "                                                    train_size=0.8,\n",
    "                                                    random_state=42)"
   ]
  },
  {
   "cell_type": "code",
   "execution_count": null,
   "metadata": {},
   "outputs": [],
   "source": [
    "# One-hot\n",
    "numeric_features = num_cols\n",
    "numeric_transformer = Pipeline(steps=[(\"scaler\", StandardScaler())])\n",
    "\n",
    "categorical_features = cat_cols\n",
    "categorical_transformer = OneHotEncoder(drop=\"if_binary\")\n",
    "\n",
    "preprocessor = ColumnTransformer(\n",
    "    transformers=[\n",
    "        (\"num\", numeric_transformer, numeric_features),\n",
    "        (\"cat\", categorical_transformer, categorical_features),\n",
    "    ]\n",
    ")\n",
    "\n",
    "model_lr = Pipeline(\n",
    "    steps=[\n",
    "        (\"preprocessor\", preprocessor),\n",
    "        (\n",
    "            \"classifier\",\n",
    "            LogisticRegressionCV(\n",
    "                Cs=[10],\n",
    "                scoring=\"roc_auc\",\n",
    "                refit=True,\n",
    "                random_state=0,\n",
    "                max_iter=1000,\n",
    "                class_weight={0: class_weight_0, 1: 1 - class_weight_0},\n",
    "            ),\n",
    "        ),\n",
    "    ]\n",
    ")"
   ]
  },
  {
   "cell_type": "code",
   "execution_count": null,
   "metadata": {},
   "outputs": [],
   "source": [
    "model_lr.fit(data_train, target_train)\n",
    "model_lr.predict(data_val)\n",
    "model_lr.score(data_val, target_val)"
   ]
  },
  {
   "cell_type": "code",
   "execution_count": null,
   "metadata": {},
   "outputs": [],
   "source": [
    "# Target encoding\n",
    "numeric_features = num_cols\n",
    "numeric_transformer = Pipeline(steps=[(\"scaler\", StandardScaler())])\n",
    "\n",
    "categorical_features = cat_cols\n",
    "categorical_transformer = TargetEncoder()\n",
    "\n",
    "preprocessor = ColumnTransformer(\n",
    "    transformers=[\n",
    "        (\"num\", numeric_transformer, numeric_features),\n",
    "        (\"cat\", categorical_transformer, categorical_features),\n",
    "    ]\n",
    ")\n",
    "\n",
    "model_lr = Pipeline(\n",
    "    steps=[\n",
    "        (\"preprocessor\", preprocessor),\n",
    "        (\n",
    "            \"classifier\",\n",
    "            LogisticRegressionCV(\n",
    "                Cs=[10],\n",
    "                scoring=\"roc_auc\",\n",
    "                refit=True,\n",
    "                random_state=0,\n",
    "                max_iter=1000,\n",
    "                class_weight={0: class_weight_0, 1: 1 - class_weight_0},\n",
    "            ),\n",
    "        ),\n",
    "    ]\n",
    ")"
   ]
  },
  {
   "cell_type": "code",
   "execution_count": null,
   "metadata": {},
   "outputs": [],
   "source": [
    "model_lr.fit(data_train, target_train)\n",
    "model_lr.predict(data_val)\n",
    "model_lr.score(data_val, target_val)"
   ]
  },
  {
   "cell_type": "code",
   "execution_count": null,
   "metadata": {},
   "outputs": [],
   "source": [
    "# LOO encoding\n",
    "numeric_features = num_cols\n",
    "numeric_transformer = Pipeline(steps=[(\"scaler\", StandardScaler())])\n",
    "\n",
    "categorical_features = cat_cols\n",
    "categorical_transformer = LeaveOneOutEncoder()\n",
    "\n",
    "preprocessor = ColumnTransformer(\n",
    "    transformers=[\n",
    "        (\"num\", numeric_transformer, numeric_features),\n",
    "        (\"cat\", categorical_transformer, categorical_features),\n",
    "    ]\n",
    ")\n",
    "\n",
    "model_lr = Pipeline(\n",
    "    steps=[\n",
    "        (\"preprocessor\", preprocessor),\n",
    "        (\n",
    "            \"classifier\",\n",
    "            LogisticRegressionCV(\n",
    "                Cs=[10],\n",
    "                scoring=\"roc_auc\",\n",
    "                refit=True,\n",
    "                random_state=0,\n",
    "                max_iter=1000,\n",
    "                class_weight={0: class_weight_0, 1: 1 - class_weight_0},\n",
    "            ),\n",
    "        ),\n",
    "    ]\n",
    ")"
   ]
  },
  {
   "cell_type": "code",
   "execution_count": null,
   "metadata": {},
   "outputs": [],
   "source": [
    "model_lr.fit(data_train, target_train)\n",
    "model_lr.predict(data_val)\n",
    "model_lr.score(data_val, target_val)"
   ]
  },
  {
   "cell_type": "code",
   "execution_count": null,
   "metadata": {},
   "outputs": [],
   "source": [
    "# BackwardDifferenceEncoder\n",
    "numeric_features = num_cols\n",
    "numeric_transformer = Pipeline(steps=[(\"scaler\", StandardScaler())])\n",
    "\n",
    "categorical_features = cat_cols\n",
    "categorical_transformer = BackwardDifferenceEncoder()\n",
    "\n",
    "preprocessor = ColumnTransformer(\n",
    "    transformers=[\n",
    "        (\"num\", numeric_transformer, numeric_features),\n",
    "        (\"cat\", categorical_transformer, categorical_features),\n",
    "    ]\n",
    ")\n",
    "\n",
    "model_lr = Pipeline(\n",
    "    steps=[\n",
    "        (\"preprocessor\", preprocessor),\n",
    "        (\n",
    "            \"classifier\",\n",
    "            LogisticRegressionCV(\n",
    "                Cs=[10],\n",
    "                scoring=\"roc_auc\",\n",
    "                refit=True,\n",
    "                random_state=0,\n",
    "                max_iter=1000,\n",
    "                class_weight={0: class_weight_0, 1: 1 - class_weight_0},\n",
    "            ),\n",
    "        ),\n",
    "    ]\n",
    ")"
   ]
  },
  {
   "cell_type": "code",
   "execution_count": null,
   "metadata": {},
   "outputs": [],
   "source": [
    "model_lr.fit(data_train, target_train)\n",
    "model_lr.predict(data_val)\n",
    "model_lr.score(data_val, target_val)"
   ]
  },
  {
   "cell_type": "markdown",
   "metadata": {},
   "source": [
    "С незначительной разницей победил обычный backward difference, на нем и обучим финальную модель"
   ]
  },
  {
   "cell_type": "code",
   "execution_count": null,
   "metadata": {},
   "outputs": [],
   "source": [
    "model_lr.fit(data[feature_cols], data[target_col])"
   ]
  },
  {
   "cell_type": "markdown",
   "metadata": {},
   "source": [
    "#### Результат на Kaggle 0.84571"
   ]
  },
  {
   "cell_type": "markdown",
   "metadata": {},
   "source": [
    "### Попробую Random Forest"
   ]
  },
  {
   "cell_type": "code",
   "execution_count": null,
   "metadata": {},
   "outputs": [],
   "source": [
    "data_train, data_val, target_train, target_val = train_test_split(data[feature_cols], data[target_col], \n",
    "                                                    train_size=0.8,\n",
    "                                                    random_state=42)\n",
    "data_train = data_encoding(data_train)"
   ]
  },
  {
   "cell_type": "code",
   "execution_count": null,
   "metadata": {},
   "outputs": [],
   "source": [
    "data_train.head()"
   ]
  },
  {
   "cell_type": "code",
   "execution_count": null,
   "metadata": {},
   "outputs": [],
   "source": [
    "from sklearn.model_selection import KFold\n",
    "from sklearn.metrics import roc_auc_score\n",
    "from tqdm.notebook import tqdm"
   ]
  },
  {
   "cell_type": "code",
   "execution_count": null,
   "metadata": {},
   "outputs": [],
   "source": [
    "model = RandomForestClassifier(n_estimators=20, n_jobs=-1, max_depth = 10)\n",
    "\n",
    "model.fit(data_train, target_train)\n",
    "target_train_predicted = model.predict_proba(data_train)[:, 1]\n",
    "train_auc = roc_auc_score(target_train, target_train_predicted)\n",
    "train_auc"
   ]
  },
  {
   "cell_type": "code",
   "execution_count": null,
   "metadata": {},
   "outputs": [],
   "source": [
    "data_val = data_encoding(data_val)"
   ]
  },
  {
   "cell_type": "code",
   "execution_count": null,
   "metadata": {},
   "outputs": [],
   "source": [
    "target_val_predicted = model.predict_proba(data_val)[:, 1]\n",
    "val_auc = roc_auc_score(target_val, target_val_predicted)\n",
    "val_auc"
   ]
  },
  {
   "cell_type": "code",
   "execution_count": null,
   "metadata": {},
   "outputs": [],
   "source": [
    "model_rf = RandomForestClassifier(random_state=42)\n",
    "param_grid = { \n",
    "    'n_estimators': [10, 20, 50, 100],\n",
    "    'max_features': ['auto', 'sqrt', 'log2'],\n",
    "    'max_depth' : [4,6,8,10,12],\n",
    "    'criterion' :['gini']\n",
    "}"
   ]
  },
  {
   "cell_type": "code",
   "execution_count": null,
   "metadata": {},
   "outputs": [],
   "source": [
    "cv_rf = GridSearchCV(estimator=model_rf, param_grid=param_grid, cv=5)\n",
    "cv_rf.fit(data_train, target_train)\n",
    "cv_rf.best_params_"
   ]
  },
  {
   "cell_type": "code",
   "execution_count": null,
   "metadata": {},
   "outputs": [],
   "source": [
    "model_rf=RandomForestClassifier(random_state=42, max_features='auto', n_estimators= 50, max_depth=8, criterion='gini')\n",
    "\n",
    "model_rf.fit(data_train, target_train)\n",
    "target_val_predicted = model_rf.predict_proba(data_val)[:, 1]\n",
    "val_auc = roc_auc_score(target_val, target_val_predicted)\n",
    "val_auc"
   ]
  },
  {
   "cell_type": "markdown",
   "metadata": {
    "id": "uVahy6JKEEZQ"
   },
   "source": [
    "Выпишите какое лучшее качество и с какими параметрами вам удалось получить"
   ]
  },
  {
   "cell_type": "code",
   "execution_count": null,
   "metadata": {},
   "outputs": [],
   "source": []
  },
  {
   "cell_type": "markdown",
   "metadata": {
    "id": "BlTeVy7fEEZR"
   },
   "source": [
    "## Применение градиентного бустинга (2 балла)\n",
    "\n",
    "Если вы хотите получить баллы за точный ответ, то стоит попробовать градиентный бустинг. Часто градиентный бустинг с дефолтными параметрами даст вам 80% результата за 0% усилий.\n",
    "\n",
    "Мы будем использовать catboost, поэтому нам не надо кодировать категориальные признаки. catboost сделает это сам (в .fit() надо передать cat_features=cat_cols). А численные признаки нормировать для моделей, основанных на деревьях не нужно.\n",
    "\n",
    "1) Разделите выборку на train/valid. Протестируйте catboost cо стандартными параметрами.\n",
    "\n",
    "2) Протестируйте разные занчения параметроа количества деревьев и learning_rate'а и выберите лучшую по метрике ROC-AUC комбинацию. \n",
    "\n",
    "(Дополнительно) Есть некоторые сложности с тем, чтобы использовать CatBoostClassifier вместе с GridSearchCV, поэтому мы не просим использовать кроссвалидацию. Но можете попробовать)"
   ]
  },
  {
   "cell_type": "code",
   "execution_count": null,
   "metadata": {
    "id": "Fioxxlp-EEZS"
   },
   "outputs": [],
   "source": [
    "from catboost import CatBoostClassifier, Pool\n",
    "from catboost.utils import eval_metric\n",
    "from catboost.utils import get_roc_curve\n",
    "from sklearn.metrics import auc"
   ]
  },
  {
   "cell_type": "code",
   "execution_count": null,
   "metadata": {},
   "outputs": [],
   "source": [
    "data_train, data_val, target_train, target_val = train_test_split(data[feature_cols], data[target_col], \n",
    "                                                    train_size=0.8,\n",
    "                                                    random_state=42)\n",
    "#data_train = data_encoding(data_train)\n",
    "#data_val = data_encoding(data_val)"
   ]
  },
  {
   "cell_type": "code",
   "execution_count": null,
   "metadata": {},
   "outputs": [],
   "source": [
    "test_data = Pool(data_val, target_val, cat_features=cat_cols)"
   ]
  },
  {
   "cell_type": "code",
   "execution_count": null,
   "metadata": {
    "scrolled": false
   },
   "outputs": [],
   "source": [
    "# попробуем искать с помощью встроенного гридсерча на всем датасете\n",
    "\n",
    "grid = {\n",
    "    \"learning_rate\": [0.03, 0.1, 0.5, 1],\n",
    "    \"depth\": [1, 2, 4, 6, 10],\n",
    "    \"l2_leaf_reg\": [1, 3, 5, 7, 9],\n",
    "    \"iterations\": [8, 10, 12, 20, 24, 30],\n",
    "}\n",
    "\n",
    "model_cat = CatBoostClassifier(\n",
    "    loss_function=\"Logloss\",\n",
    "    verbose=False,\n",
    "    eval_metric=\"AUC\",\n",
    "    cat_features=cat_cols\n",
    ")\n",
    "grid_search_result = model_cat.grid_search(\n",
    "    grid, data[feature_cols], data[target_col], plot=True\n",
    ")"
   ]
  },
  {
   "cell_type": "code",
   "execution_count": null,
   "metadata": {},
   "outputs": [],
   "source": [
    "class_weight_0 = 1 - data['Churn'].mean()\n",
    "class_weight_0"
   ]
  },
  {
   "cell_type": "code",
   "execution_count": null,
   "metadata": {},
   "outputs": [],
   "source": [
    "# обучим с лучшими параметрами и весами классов\n",
    "model_cat = CatBoostClassifier(\n",
    "                iterations=30,\n",
    "                depth=4,\n",
    "                learning_rate=1,\n",
    "                loss_function=\"Logloss\",\n",
    "                l2_leaf_reg = 7,\n",
    "                verbose=True,\n",
    "                eval_metric=\"AUC\",\n",
    "                class_weights= [class_weight_0, 1-class_weight_0]\n",
    "            )\n",
    "\n",
    "model_cat.fit(data[feature_cols], data[target_col], cat_features=cat_cols);"
   ]
  },
  {
   "cell_type": "markdown",
   "metadata": {},
   "source": [
    "#### К вопросу о воспроизводимости результатов, я как-то выбил 0.85169 на каггле, но не помню с какими параметрами, первый перебор параметров проводил руками в цикле. С указанными выше 0,85 не получается "
   ]
  },
  {
   "cell_type": "markdown",
   "metadata": {},
   "source": [
    "### Попробую LightGBM"
   ]
  },
  {
   "cell_type": "code",
   "execution_count": 10,
   "metadata": {},
   "outputs": [],
   "source": [
    "import lightgbm as lgb"
   ]
  },
  {
   "cell_type": "code",
   "execution_count": 11,
   "metadata": {},
   "outputs": [
    {
     "data": {
      "text/html": [
       "<div>\n",
       "<style scoped>\n",
       "    .dataframe tbody tr th:only-of-type {\n",
       "        vertical-align: middle;\n",
       "    }\n",
       "\n",
       "    .dataframe tbody tr th {\n",
       "        vertical-align: top;\n",
       "    }\n",
       "\n",
       "    .dataframe thead th {\n",
       "        text-align: right;\n",
       "    }\n",
       "</style>\n",
       "<table border=\"1\" class=\"dataframe\">\n",
       "  <thead>\n",
       "    <tr style=\"text-align: right;\">\n",
       "      <th></th>\n",
       "      <th>ClientPeriod</th>\n",
       "      <th>MonthlySpending</th>\n",
       "      <th>TotalSpent</th>\n",
       "      <th>Sex</th>\n",
       "      <th>IsSeniorCitizen</th>\n",
       "      <th>HasPartner</th>\n",
       "      <th>HasChild</th>\n",
       "      <th>HasPhoneService</th>\n",
       "      <th>HasMultiplePhoneNumbers</th>\n",
       "      <th>HasInternetService</th>\n",
       "      <th>HasOnlineSecurityService</th>\n",
       "      <th>HasOnlineBackup</th>\n",
       "      <th>HasDeviceProtection</th>\n",
       "      <th>HasTechSupportAccess</th>\n",
       "      <th>HasOnlineTV</th>\n",
       "      <th>HasMovieSubscription</th>\n",
       "      <th>HasContractPhone</th>\n",
       "      <th>IsBillingPaperless</th>\n",
       "      <th>PaymentMethod</th>\n",
       "    </tr>\n",
       "  </thead>\n",
       "  <tbody>\n",
       "    <tr>\n",
       "      <th>4556</th>\n",
       "      <td>31</td>\n",
       "      <td>73.55</td>\n",
       "      <td>2094.65</td>\n",
       "      <td>Female</td>\n",
       "      <td>1</td>\n",
       "      <td>No</td>\n",
       "      <td>No</td>\n",
       "      <td>Yes</td>\n",
       "      <td>No</td>\n",
       "      <td>Fiber optic</td>\n",
       "      <td>Yes</td>\n",
       "      <td>No</td>\n",
       "      <td>No</td>\n",
       "      <td>No</td>\n",
       "      <td>No</td>\n",
       "      <td>No</td>\n",
       "      <td>Month-to-month</td>\n",
       "      <td>Yes</td>\n",
       "      <td>Credit card (automatic)</td>\n",
       "    </tr>\n",
       "    <tr>\n",
       "      <th>1468</th>\n",
       "      <td>59</td>\n",
       "      <td>100.05</td>\n",
       "      <td>6034.85</td>\n",
       "      <td>Female</td>\n",
       "      <td>0</td>\n",
       "      <td>Yes</td>\n",
       "      <td>No</td>\n",
       "      <td>Yes</td>\n",
       "      <td>No</td>\n",
       "      <td>Fiber optic</td>\n",
       "      <td>No</td>\n",
       "      <td>Yes</td>\n",
       "      <td>No</td>\n",
       "      <td>Yes</td>\n",
       "      <td>Yes</td>\n",
       "      <td>Yes</td>\n",
       "      <td>Two year</td>\n",
       "      <td>Yes</td>\n",
       "      <td>Mailed check</td>\n",
       "    </tr>\n",
       "    <tr>\n",
       "      <th>3142</th>\n",
       "      <td>60</td>\n",
       "      <td>99.00</td>\n",
       "      <td>6017.90</td>\n",
       "      <td>Male</td>\n",
       "      <td>1</td>\n",
       "      <td>Yes</td>\n",
       "      <td>No</td>\n",
       "      <td>Yes</td>\n",
       "      <td>Yes</td>\n",
       "      <td>Fiber optic</td>\n",
       "      <td>No</td>\n",
       "      <td>No</td>\n",
       "      <td>No</td>\n",
       "      <td>Yes</td>\n",
       "      <td>Yes</td>\n",
       "      <td>Yes</td>\n",
       "      <td>Month-to-month</td>\n",
       "      <td>Yes</td>\n",
       "      <td>Electronic check</td>\n",
       "    </tr>\n",
       "    <tr>\n",
       "      <th>2093</th>\n",
       "      <td>6</td>\n",
       "      <td>73.85</td>\n",
       "      <td>401.30</td>\n",
       "      <td>Female</td>\n",
       "      <td>0</td>\n",
       "      <td>No</td>\n",
       "      <td>No</td>\n",
       "      <td>Yes</td>\n",
       "      <td>Yes</td>\n",
       "      <td>Fiber optic</td>\n",
       "      <td>No</td>\n",
       "      <td>No</td>\n",
       "      <td>No</td>\n",
       "      <td>No</td>\n",
       "      <td>No</td>\n",
       "      <td>No</td>\n",
       "      <td>Month-to-month</td>\n",
       "      <td>Yes</td>\n",
       "      <td>Mailed check</td>\n",
       "    </tr>\n",
       "    <tr>\n",
       "      <th>1505</th>\n",
       "      <td>72</td>\n",
       "      <td>24.75</td>\n",
       "      <td>1859.10</td>\n",
       "      <td>Male</td>\n",
       "      <td>0</td>\n",
       "      <td>Yes</td>\n",
       "      <td>Yes</td>\n",
       "      <td>Yes</td>\n",
       "      <td>Yes</td>\n",
       "      <td>No</td>\n",
       "      <td>No internet service</td>\n",
       "      <td>No internet service</td>\n",
       "      <td>No internet service</td>\n",
       "      <td>No internet service</td>\n",
       "      <td>No internet service</td>\n",
       "      <td>No internet service</td>\n",
       "      <td>Two year</td>\n",
       "      <td>No</td>\n",
       "      <td>Credit card (automatic)</td>\n",
       "    </tr>\n",
       "  </tbody>\n",
       "</table>\n",
       "</div>"
      ],
      "text/plain": [
       "      ClientPeriod  MonthlySpending  TotalSpent     Sex  IsSeniorCitizen  \\\n",
       "4556            31            73.55     2094.65  Female                1   \n",
       "1468            59           100.05     6034.85  Female                0   \n",
       "3142            60            99.00     6017.90    Male                1   \n",
       "2093             6            73.85      401.30  Female                0   \n",
       "1505            72            24.75     1859.10    Male                0   \n",
       "\n",
       "     HasPartner HasChild HasPhoneService HasMultiplePhoneNumbers  \\\n",
       "4556         No       No             Yes                      No   \n",
       "1468        Yes       No             Yes                      No   \n",
       "3142        Yes       No             Yes                     Yes   \n",
       "2093         No       No             Yes                     Yes   \n",
       "1505        Yes      Yes             Yes                     Yes   \n",
       "\n",
       "     HasInternetService HasOnlineSecurityService      HasOnlineBackup  \\\n",
       "4556        Fiber optic                      Yes                   No   \n",
       "1468        Fiber optic                       No                  Yes   \n",
       "3142        Fiber optic                       No                   No   \n",
       "2093        Fiber optic                       No                   No   \n",
       "1505                 No      No internet service  No internet service   \n",
       "\n",
       "      HasDeviceProtection HasTechSupportAccess          HasOnlineTV  \\\n",
       "4556                   No                   No                   No   \n",
       "1468                   No                  Yes                  Yes   \n",
       "3142                   No                  Yes                  Yes   \n",
       "2093                   No                   No                   No   \n",
       "1505  No internet service  No internet service  No internet service   \n",
       "\n",
       "     HasMovieSubscription HasContractPhone IsBillingPaperless  \\\n",
       "4556                   No   Month-to-month                Yes   \n",
       "1468                  Yes         Two year                Yes   \n",
       "3142                  Yes   Month-to-month                Yes   \n",
       "2093                   No   Month-to-month                Yes   \n",
       "1505  No internet service         Two year                 No   \n",
       "\n",
       "                PaymentMethod  \n",
       "4556  Credit card (automatic)  \n",
       "1468             Mailed check  \n",
       "3142         Electronic check  \n",
       "2093             Mailed check  \n",
       "1505  Credit card (automatic)  "
      ]
     },
     "execution_count": 11,
     "metadata": {},
     "output_type": "execute_result"
    }
   ],
   "source": [
    "data_train.head()"
   ]
  },
  {
   "cell_type": "code",
   "execution_count": 12,
   "metadata": {},
   "outputs": [],
   "source": [
    "for c in data_train.columns:\n",
    "    col_type = data_train[c].dtype\n",
    "    if col_type == 'object' or col_type.name == 'category':\n",
    "        data_train[c] = data_train[c].astype('category')"
   ]
  },
  {
   "cell_type": "code",
   "execution_count": 13,
   "metadata": {},
   "outputs": [],
   "source": [
    "for c in data_val.columns:\n",
    "    col_type = data_val[c].dtype\n",
    "    if col_type == 'object' or col_type.name == 'category':\n",
    "        data_val[c] = data_val[c].astype('category')"
   ]
  },
  {
   "cell_type": "code",
   "execution_count": 14,
   "metadata": {},
   "outputs": [
    {
     "name": "stdout",
     "output_type": "stream",
     "text": [
      "<class 'pandas.core.frame.DataFrame'>\n",
      "Int64Index: 1057 entries, 1448 to 274\n",
      "Data columns (total 19 columns):\n",
      " #   Column                    Non-Null Count  Dtype   \n",
      "---  ------                    --------------  -----   \n",
      " 0   ClientPeriod              1057 non-null   int64   \n",
      " 1   MonthlySpending           1057 non-null   float64 \n",
      " 2   TotalSpent                1057 non-null   float64 \n",
      " 3   Sex                       1057 non-null   category\n",
      " 4   IsSeniorCitizen           1057 non-null   int64   \n",
      " 5   HasPartner                1057 non-null   category\n",
      " 6   HasChild                  1057 non-null   category\n",
      " 7   HasPhoneService           1057 non-null   category\n",
      " 8   HasMultiplePhoneNumbers   1057 non-null   category\n",
      " 9   HasInternetService        1057 non-null   category\n",
      " 10  HasOnlineSecurityService  1057 non-null   category\n",
      " 11  HasOnlineBackup           1057 non-null   category\n",
      " 12  HasDeviceProtection       1057 non-null   category\n",
      " 13  HasTechSupportAccess      1057 non-null   category\n",
      " 14  HasOnlineTV               1057 non-null   category\n",
      " 15  HasMovieSubscription      1057 non-null   category\n",
      " 16  HasContractPhone          1057 non-null   category\n",
      " 17  IsBillingPaperless        1057 non-null   category\n",
      " 18  PaymentMethod             1057 non-null   category\n",
      "dtypes: category(15), float64(2), int64(2)\n",
      "memory usage: 58.3 KB\n"
     ]
    }
   ],
   "source": [
    "data_val.info()"
   ]
  },
  {
   "cell_type": "code",
   "execution_count": 15,
   "metadata": {},
   "outputs": [],
   "source": [
    "fit_params={\"early_stopping_rounds\":100, \n",
    "            \"eval_metric\" : 'auc', \n",
    "            \"eval_set\" : [(data_val, target_val)],\n",
    "            'eval_names': ['valid'],\n",
    "            'verbose': 100,\n",
    "            'feature_name': 'auto', # that's actually the default\n",
    "            'categorical_feature': 'auto' # that's actually the default\n",
    "           }"
   ]
  },
  {
   "cell_type": "code",
   "execution_count": 16,
   "metadata": {},
   "outputs": [],
   "source": [
    "model_lgb = lgb.LGBMClassifier(num_leaves= 15, max_depth=-1, \n",
    "                         random_state=314, \n",
    "                         silent=True, \n",
    "                         metric='None', \n",
    "                         n_jobs=4, \n",
    "                         n_estimators=1000,\n",
    "                         colsample_bytree=0.9,\n",
    "                         subsample=0.9,\n",
    "                         learning_rate=0.1)"
   ]
  },
  {
   "cell_type": "code",
   "execution_count": null,
   "metadata": {},
   "outputs": [],
   "source": [
    "model_lgb.fit(data_train, target_train, **fit_params)"
   ]
  },
  {
   "cell_type": "code",
   "execution_count": 18,
   "metadata": {},
   "outputs": [],
   "source": [
    "from sklearn.datasets import make_classification\n",
    "from sklearn.model_selection import cross_val_score\n",
    "from sklearn.model_selection import RepeatedStratifiedKFold\n",
    "from lightgbm import LGBMClassifier"
   ]
  },
  {
   "cell_type": "code",
   "execution_count": 19,
   "metadata": {},
   "outputs": [
    {
     "name": "stdout",
     "output_type": "stream",
     "text": [
      "AUC: 0.834 (0.020)\n"
     ]
    }
   ],
   "source": [
    "model_lgb = LGBMClassifier()\n",
    "cv = RepeatedStratifiedKFold(n_splits=10, n_repeats=3, random_state=1)\n",
    "n_scores = cross_val_score(model_lgb, data_train, target_train, scoring='roc_auc', cv=cv, n_jobs=-1)\n",
    "print('AUC: %.3f (%.3f)' % (np.mean(n_scores), np.std(n_scores)))"
   ]
  },
  {
   "cell_type": "code",
   "execution_count": 20,
   "metadata": {},
   "outputs": [],
   "source": [
    "def get_models():\n",
    "    models = dict()\n",
    "    trees = [3, 5, 10, 20, 30]\n",
    "    for n in trees:\n",
    "        models[str(n)] = LGBMClassifier(n_estimators=n)\n",
    "    return models"
   ]
  },
  {
   "cell_type": "code",
   "execution_count": 21,
   "metadata": {},
   "outputs": [],
   "source": [
    "def evaluate_model(model):\n",
    "    cv = RepeatedStratifiedKFold(n_splits=10, n_repeats=3, random_state=1)\n",
    "    scores = cross_val_score(model, data_train, target_train, scoring='roc_auc', cv=cv, n_jobs=-1)\n",
    "    return scores"
   ]
  },
  {
   "cell_type": "code",
   "execution_count": 22,
   "metadata": {},
   "outputs": [
    {
     "name": "stdout",
     "output_type": "stream",
     "text": [
      ">3 0.838 (0.020)\n",
      ">5 0.840 (0.021)\n",
      ">10 0.843 (0.021)\n",
      ">20 0.844 (0.020)\n",
      ">30 0.844 (0.021)\n"
     ]
    }
   ],
   "source": [
    "models = get_models()\n",
    "results, names = list(), list()\n",
    "for name, model in models.items():\n",
    "    scores = evaluate_model(model)\n",
    "    results.append(scores)\n",
    "    names.append(name)\n",
    "    print('>%s %.3f (%.3f)' % (name, np.mean(scores), np.std(scores)))"
   ]
  },
  {
   "cell_type": "code",
   "execution_count": 23,
   "metadata": {},
   "outputs": [],
   "source": [
    "def get_models():\n",
    "    models = dict()\n",
    "    for i in range(1,11):\n",
    "        models[str(i)] = LGBMClassifier(max_depth=i, num_leaves=2**i, n_estimators=20)\n",
    "    return models"
   ]
  },
  {
   "cell_type": "code",
   "execution_count": 24,
   "metadata": {},
   "outputs": [
    {
     "name": "stdout",
     "output_type": "stream",
     "text": [
      ">1 0.839 (0.022)\n",
      ">2 0.846 (0.021)\n",
      ">3 0.849 (0.021)\n",
      ">4 0.849 (0.020)\n",
      ">5 0.846 (0.020)\n",
      ">6 0.842 (0.020)\n",
      ">7 0.838 (0.019)\n",
      ">8 0.835 (0.020)\n",
      ">9 0.834 (0.020)\n",
      ">10 0.832 (0.020)\n"
     ]
    }
   ],
   "source": [
    "models = get_models()\n",
    "results, names = list(), list()\n",
    "for name, model in models.items():\n",
    "    scores = evaluate_model(model)\n",
    "    results.append(scores)\n",
    "    names.append(name)\n",
    "    print('>%s %.3f (%.3f)' % (name, np.mean(scores), np.std(scores)))"
   ]
  },
  {
   "cell_type": "code",
   "execution_count": 25,
   "metadata": {},
   "outputs": [],
   "source": [
    "model_lgb = lgb.LGBMClassifier(\n",
    "    num_leaves=2 ** 4,\n",
    "    max_depth=4,\n",
    "    random_state=314,\n",
    "    silent=True,\n",
    "    metric=\"None\",\n",
    "    learning_rate=0.1,\n",
    "    n_estimators=20,\n",
    ")"
   ]
  },
  {
   "cell_type": "code",
   "execution_count": 36,
   "metadata": {},
   "outputs": [],
   "source": [
    "for c in data.columns:\n",
    "    col_type = data[c].dtype\n",
    "    if col_type == 'object' or col_type.name == 'category':\n",
    "        data[c] = data[c].astype('category')"
   ]
  },
  {
   "cell_type": "code",
   "execution_count": 46,
   "metadata": {},
   "outputs": [
    {
     "name": "stdout",
     "output_type": "stream",
     "text": [
      "AUC: 0.845 (0.018)\n"
     ]
    }
   ],
   "source": [
    "model_lgb = LGBMClassifier(max_depth=4, num_leaves=2**4, n_estimators=20)\n",
    "cv = RepeatedStratifiedKFold(n_splits=10, n_repeats=3, random_state=1)\n",
    "n_scores = cross_val_score(model_lgb, data[feature_cols], data[target_col], scoring='roc_auc', cv=cv, n_jobs=-1)\n",
    "print('AUC: %.3f (%.3f)' % (np.mean(n_scores), np.std(n_scores)))"
   ]
  },
  {
   "cell_type": "code",
   "execution_count": 49,
   "metadata": {},
   "outputs": [
    {
     "name": "stdout",
     "output_type": "stream",
     "text": [
      "Training until validation scores don't improve for 100 rounds\n",
      "Did not meet early stopping. Best iteration is:\n",
      "[20]\tvalid's auc: 0.846155\tvalid's binary_logloss: 0.420643\n"
     ]
    },
    {
     "data": {
      "text/plain": [
       "LGBMClassifier(max_depth=4, n_estimators=20, num_leaves=16)"
      ]
     },
     "execution_count": 49,
     "metadata": {},
     "output_type": "execute_result"
    }
   ],
   "source": [
    "model_lgb.fit(data[feature_cols], data[target_col], **fit_params)"
   ]
  },
  {
   "cell_type": "markdown",
   "metadata": {},
   "source": [
    "0.84890 на тестовых данных"
   ]
  },
  {
   "cell_type": "markdown",
   "metadata": {
    "id": "dDMXbvNZEEZV"
   },
   "source": [
    "# Предсказания"
   ]
  },
  {
   "cell_type": "code",
   "execution_count": 50,
   "metadata": {
    "id": "G_P4wFNaEEZW",
    "outputId": "1fba5dfc-88e4-49e3-ed8a-afe21ae3325a"
   },
   "outputs": [],
   "source": [
    "best_model = model_lgb"
   ]
  },
  {
   "cell_type": "code",
   "execution_count": 39,
   "metadata": {},
   "outputs": [],
   "source": [
    "X_test = pd.read_csv('./test.csv')\n",
    "submission = pd.read_csv('./submission.csv')"
   ]
  },
  {
   "cell_type": "code",
   "execution_count": 40,
   "metadata": {},
   "outputs": [],
   "source": [
    "data_cleaning(X_test)"
   ]
  },
  {
   "cell_type": "code",
   "execution_count": 41,
   "metadata": {},
   "outputs": [],
   "source": [
    "# шаг только для LightGBM\n",
    "for c in X_test.columns:\n",
    "    col_type = X_test[c].dtype\n",
    "    if col_type == 'object' or col_type.name == 'category':\n",
    "        X_test[c] = X_test[c].astype('category')"
   ]
  },
  {
   "cell_type": "code",
   "execution_count": null,
   "metadata": {},
   "outputs": [],
   "source": [
    "# этот шаг применим не для всех моделей!\n",
    "X_test = data_encoding(X_test)"
   ]
  },
  {
   "cell_type": "code",
   "execution_count": null,
   "metadata": {},
   "outputs": [],
   "source": [
    "# этот шаг применим не для всех моделей!\n",
    "for column in num_cols:\n",
    "    X_test[column] = (X_test[column] - scaling_dict[column + '_mean'])/scaling_dict[column + '_dev']"
   ]
  },
  {
   "cell_type": "code",
   "execution_count": 42,
   "metadata": {},
   "outputs": [
    {
     "data": {
      "text/html": [
       "<div>\n",
       "<style scoped>\n",
       "    .dataframe tbody tr th:only-of-type {\n",
       "        vertical-align: middle;\n",
       "    }\n",
       "\n",
       "    .dataframe tbody tr th {\n",
       "        vertical-align: top;\n",
       "    }\n",
       "\n",
       "    .dataframe thead th {\n",
       "        text-align: right;\n",
       "    }\n",
       "</style>\n",
       "<table border=\"1\" class=\"dataframe\">\n",
       "  <thead>\n",
       "    <tr style=\"text-align: right;\">\n",
       "      <th></th>\n",
       "      <th>ClientPeriod</th>\n",
       "      <th>MonthlySpending</th>\n",
       "      <th>TotalSpent</th>\n",
       "      <th>Sex</th>\n",
       "      <th>IsSeniorCitizen</th>\n",
       "      <th>HasPartner</th>\n",
       "      <th>HasChild</th>\n",
       "      <th>HasPhoneService</th>\n",
       "      <th>HasMultiplePhoneNumbers</th>\n",
       "      <th>HasInternetService</th>\n",
       "      <th>HasOnlineSecurityService</th>\n",
       "      <th>HasOnlineBackup</th>\n",
       "      <th>HasDeviceProtection</th>\n",
       "      <th>HasTechSupportAccess</th>\n",
       "      <th>HasOnlineTV</th>\n",
       "      <th>HasMovieSubscription</th>\n",
       "      <th>HasContractPhone</th>\n",
       "      <th>IsBillingPaperless</th>\n",
       "      <th>PaymentMethod</th>\n",
       "    </tr>\n",
       "  </thead>\n",
       "  <tbody>\n",
       "    <tr>\n",
       "      <th>0</th>\n",
       "      <td>42</td>\n",
       "      <td>56.10</td>\n",
       "      <td>2386.85</td>\n",
       "      <td>Male</td>\n",
       "      <td>0</td>\n",
       "      <td>Yes</td>\n",
       "      <td>No</td>\n",
       "      <td>Yes</td>\n",
       "      <td>Yes</td>\n",
       "      <td>DSL</td>\n",
       "      <td>Yes</td>\n",
       "      <td>No</td>\n",
       "      <td>No</td>\n",
       "      <td>No</td>\n",
       "      <td>No</td>\n",
       "      <td>No</td>\n",
       "      <td>One year</td>\n",
       "      <td>No</td>\n",
       "      <td>Credit card (automatic)</td>\n",
       "    </tr>\n",
       "    <tr>\n",
       "      <th>1</th>\n",
       "      <td>29</td>\n",
       "      <td>98.50</td>\n",
       "      <td>3004.15</td>\n",
       "      <td>Male</td>\n",
       "      <td>1</td>\n",
       "      <td>Yes</td>\n",
       "      <td>No</td>\n",
       "      <td>Yes</td>\n",
       "      <td>Yes</td>\n",
       "      <td>Fiber optic</td>\n",
       "      <td>No</td>\n",
       "      <td>No</td>\n",
       "      <td>Yes</td>\n",
       "      <td>No</td>\n",
       "      <td>Yes</td>\n",
       "      <td>Yes</td>\n",
       "      <td>Month-to-month</td>\n",
       "      <td>Yes</td>\n",
       "      <td>Electronic check</td>\n",
       "    </tr>\n",
       "    <tr>\n",
       "      <th>2</th>\n",
       "      <td>9</td>\n",
       "      <td>76.25</td>\n",
       "      <td>684.85</td>\n",
       "      <td>Male</td>\n",
       "      <td>0</td>\n",
       "      <td>No</td>\n",
       "      <td>No</td>\n",
       "      <td>Yes</td>\n",
       "      <td>Yes</td>\n",
       "      <td>Fiber optic</td>\n",
       "      <td>No</td>\n",
       "      <td>No</td>\n",
       "      <td>No</td>\n",
       "      <td>No</td>\n",
       "      <td>No</td>\n",
       "      <td>No</td>\n",
       "      <td>Month-to-month</td>\n",
       "      <td>Yes</td>\n",
       "      <td>Electronic check</td>\n",
       "    </tr>\n",
       "    <tr>\n",
       "      <th>3</th>\n",
       "      <td>67</td>\n",
       "      <td>74.00</td>\n",
       "      <td>4868.40</td>\n",
       "      <td>Female</td>\n",
       "      <td>0</td>\n",
       "      <td>Yes</td>\n",
       "      <td>Yes</td>\n",
       "      <td>Yes</td>\n",
       "      <td>Yes</td>\n",
       "      <td>DSL</td>\n",
       "      <td>Yes</td>\n",
       "      <td>Yes</td>\n",
       "      <td>No</td>\n",
       "      <td>Yes</td>\n",
       "      <td>Yes</td>\n",
       "      <td>No</td>\n",
       "      <td>Two year</td>\n",
       "      <td>No</td>\n",
       "      <td>Credit card (automatic)</td>\n",
       "    </tr>\n",
       "    <tr>\n",
       "      <th>4</th>\n",
       "      <td>71</td>\n",
       "      <td>20.10</td>\n",
       "      <td>1389.60</td>\n",
       "      <td>Female</td>\n",
       "      <td>0</td>\n",
       "      <td>Yes</td>\n",
       "      <td>Yes</td>\n",
       "      <td>Yes</td>\n",
       "      <td>No</td>\n",
       "      <td>No</td>\n",
       "      <td>No internet service</td>\n",
       "      <td>No internet service</td>\n",
       "      <td>No internet service</td>\n",
       "      <td>No internet service</td>\n",
       "      <td>No internet service</td>\n",
       "      <td>No internet service</td>\n",
       "      <td>Two year</td>\n",
       "      <td>No</td>\n",
       "      <td>Bank transfer (automatic)</td>\n",
       "    </tr>\n",
       "  </tbody>\n",
       "</table>\n",
       "</div>"
      ],
      "text/plain": [
       "   ClientPeriod  MonthlySpending  TotalSpent     Sex  IsSeniorCitizen  \\\n",
       "0            42            56.10     2386.85    Male                0   \n",
       "1            29            98.50     3004.15    Male                1   \n",
       "2             9            76.25      684.85    Male                0   \n",
       "3            67            74.00     4868.40  Female                0   \n",
       "4            71            20.10     1389.60  Female                0   \n",
       "\n",
       "  HasPartner HasChild HasPhoneService HasMultiplePhoneNumbers  \\\n",
       "0        Yes       No             Yes                     Yes   \n",
       "1        Yes       No             Yes                     Yes   \n",
       "2         No       No             Yes                     Yes   \n",
       "3        Yes      Yes             Yes                     Yes   \n",
       "4        Yes      Yes             Yes                      No   \n",
       "\n",
       "  HasInternetService HasOnlineSecurityService      HasOnlineBackup  \\\n",
       "0                DSL                      Yes                   No   \n",
       "1        Fiber optic                       No                   No   \n",
       "2        Fiber optic                       No                   No   \n",
       "3                DSL                      Yes                  Yes   \n",
       "4                 No      No internet service  No internet service   \n",
       "\n",
       "   HasDeviceProtection HasTechSupportAccess          HasOnlineTV  \\\n",
       "0                   No                   No                   No   \n",
       "1                  Yes                   No                  Yes   \n",
       "2                   No                   No                   No   \n",
       "3                   No                  Yes                  Yes   \n",
       "4  No internet service  No internet service  No internet service   \n",
       "\n",
       "  HasMovieSubscription HasContractPhone IsBillingPaperless  \\\n",
       "0                   No         One year                 No   \n",
       "1                  Yes   Month-to-month                Yes   \n",
       "2                   No   Month-to-month                Yes   \n",
       "3                   No         Two year                 No   \n",
       "4  No internet service         Two year                 No   \n",
       "\n",
       "               PaymentMethod  \n",
       "0    Credit card (automatic)  \n",
       "1           Electronic check  \n",
       "2           Electronic check  \n",
       "3    Credit card (automatic)  \n",
       "4  Bank transfer (automatic)  "
      ]
     },
     "execution_count": 42,
     "metadata": {},
     "output_type": "execute_result"
    }
   ],
   "source": [
    "X_test.head()"
   ]
  },
  {
   "cell_type": "code",
   "execution_count": 51,
   "metadata": {
    "id": "FfSufx0CEEZZ"
   },
   "outputs": [],
   "source": [
    "submission['Churn'] = 1 - best_model.predict_proba(X_test)\n",
    "submission.to_csv('./my_submission.csv', index=False)"
   ]
  },
  {
   "cell_type": "markdown",
   "metadata": {
    "id": "mkxjbGkVEEZc"
   },
   "source": [
    "# Kaggle (5 баллов)\n",
    "\n",
    "Как выставить баллы:\n",
    "\n",
    "1) 1 >= roc auc > 0.84 это 5 баллов\n",
    "\n",
    "2) 0.84 >= roc auc > 0.7 это 3 балла\n",
    "\n",
    "3) 0.7 >= roc auc > 0.6 это 1 балл\n",
    "\n",
    "4) 0.6 >= roc auc это 0 баллов\n",
    "\n",
    "\n",
    "Для выполнения задания необходимо выполнить следующие шаги.\n",
    "* Зарегистрироваться на платформе [kaggle.com](kaggle.com). Процесс выставления оценок будет проходить при подведении итогового рейтинга. Пожалуйста, укажите во вкладке Team -> Team name свои имя и фамилию в формате Имя_Фамилия (важно, чтобы имя и фамилия совпадали с данными на Stepik).\n",
    "* Обучить модель, получить файл с ответами в формате .csv и сдать его в конкурс. Пробуйте и экспериментируйте. Обратите внимание, что вы можете выполнять до 20 попыток сдачи на kaggle в день.\n",
    "* После окончания соревнования отправить в итоговый ноутбук с решением на степик. \n",
    "* После дедлайна проверьте посылки других участников по критериям. Для этого надо зайти на степик, скачать их ноутбук и проверить скор в соревновании."
   ]
  }
 ],
 "metadata": {
  "colab": {
   "collapsed_sections": [],
   "name": "baseline.ipynb",
   "provenance": []
  },
  "kernelspec": {
   "display_name": "Python 3",
   "language": "python",
   "name": "python3"
  },
  "language_info": {
   "codemirror_mode": {
    "name": "ipython",
    "version": 3
   },
   "file_extension": ".py",
   "mimetype": "text/x-python",
   "name": "python",
   "nbconvert_exporter": "python",
   "pygments_lexer": "ipython3",
   "version": "3.8.3"
  },
  "toc": {
   "base_numbering": 1,
   "nav_menu": {},
   "number_sections": true,
   "sideBar": true,
   "skip_h1_title": false,
   "title_cell": "Table of Contents",
   "title_sidebar": "Contents",
   "toc_cell": false,
   "toc_position": {},
   "toc_section_display": true,
   "toc_window_display": false
  }
 },
 "nbformat": 4,
 "nbformat_minor": 1
}
